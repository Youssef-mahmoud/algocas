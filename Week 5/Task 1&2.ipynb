{
 "cells": [
  {
   "cell_type": "markdown",
   "id": "7bb66de5",
   "metadata": {},
   "source": [
    "## Groq API"
   ]
  },
  {
   "cell_type": "code",
   "execution_count": 1,
   "id": "9650aed8",
   "metadata": {},
   "outputs": [],
   "source": [
    "from dotenv import load_dotenv\n",
    "import os\n",
    "import getpass\n",
    "\n",
    "\n",
    "# Load environment variables from .env file\n",
    "load_dotenv()\n",
    "\n",
    "# Access groq_key\n",
    "groq_key = os.getenv(\"GROQ_API_KEY\")\n",
    "if \"GROQ_API_KEY\" not in os.environ:\n",
    "    os.environ[\"GROQ_API_KEY\"] = getpass.getpass(groq_key)"
   ]
  },
  {
   "cell_type": "markdown",
   "id": "75355301",
   "metadata": {},
   "source": [
    "## Loading, Splitting, Storing PDFs"
   ]
  },
  {
   "cell_type": "code",
   "execution_count": 2,
   "id": "c30e0cbd",
   "metadata": {},
   "outputs": [
    {
     "name": "stdout",
     "output_type": "stream",
     "text": [
      "✅ Loaded 131 documents from 4 PDFs\n"
     ]
    }
   ],
   "source": [
    "from langchain_community.document_loaders import PyMuPDFLoader\n",
    "\n",
    "# === PDF Files ===\n",
    "pdf_paths = [\n",
    "    \"PDFs/Erickson_Kretschmer_Mendis_chapter_4_PD.pdf\",\n",
    "    \"PDFs/Vox-Jenkins.pdf\",  # Public domain + culture\n",
    "    \"PDFs/Public Domain and Access to Knowledge.pdf\",  # DigitalCommons UGA\n",
    "    \"PDFs/Giblin - What Happens When Books Enter the Public Domain.pdf\"  # Harvard Ruggie\n",
    "]\n",
    "\n",
    "# Load all PDFs\n",
    "pdf_docs = []\n",
    "for path in pdf_paths:\n",
    "    loader = PyMuPDFLoader(path)\n",
    "    pdf_docs.extend(loader.load())\n",
    "\n",
    "\n",
    "all_docs = pdf_docs\n",
    "\n",
    "print(f\"✅ Loaded {len(all_docs)} documents from {len(pdf_paths)} PDFs\")\n"
   ]
  },
  {
   "cell_type": "code",
   "execution_count": 3,
   "id": "84b87cab",
   "metadata": {},
   "outputs": [
    {
     "name": "stdout",
     "output_type": "stream",
     "text": [
      "Total chunks created: 992\n"
     ]
    }
   ],
   "source": [
    "from langchain.text_splitter import RecursiveCharacterTextSplitter\n",
    "\n",
    "# Configure the splitter\n",
    "text_splitter = RecursiveCharacterTextSplitter(\n",
    "    chunk_size=500,      # characters per chunk\n",
    "    chunk_overlap=100    # overlap to preserve context\n",
    ")\n",
    "\n",
    "# Split all docs\n",
    "split_docs = text_splitter.split_documents(all_docs)\n",
    "\n",
    "print(f\"Total chunks created: {len(split_docs)}\")\n"
   ]
  },
  {
   "cell_type": "code",
   "execution_count": 4,
   "id": "57d085e7",
   "metadata": {},
   "outputs": [],
   "source": [
    "from langchain.vectorstores import FAISS\n",
    "from langchain_huggingface import HuggingFaceEmbeddings\n",
    "import os\n",
    "\n",
    "# 1. Set up the embedding model\n",
    "embedding_model = HuggingFaceEmbeddings(model_name=\"all-MiniLM-L6-v2\")\n",
    "\n",
    "# 2. Create FAISS vector store\n",
    "vectorstore = FAISS.from_documents(split_docs, embedding_model)"
   ]
  },
  {
   "cell_type": "markdown",
   "id": "da5b85d3",
   "metadata": {},
   "source": [
    "## LLM"
   ]
  },
  {
   "cell_type": "code",
   "execution_count": 5,
   "id": "aa2f61fd",
   "metadata": {},
   "outputs": [],
   "source": [
    "from langchain_groq import ChatGroq\n",
    "\n",
    "llm = ChatGroq(\n",
    "    model=\"llama-3.1-8b-instant\",\n",
    "    temperature=0,\n",
    "    max_tokens=None,\n",
    "    timeout=None,\n",
    "    max_retries=2,\n",
    "    # other params...\n",
    ")"
   ]
  },
  {
   "cell_type": "code",
   "execution_count": 6,
   "id": "3f60843a",
   "metadata": {},
   "outputs": [
    {
     "name": "stderr",
     "output_type": "stream",
     "text": [
      "C:\\Users\\Youssef_Mahmoud\\AppData\\Local\\Temp\\ipykernel_14188\\3080653135.py:15: LangChainDeprecationWarning: The method `Chain.run` was deprecated in langchain 0.1.0 and will be removed in 1.0. Use :meth:`~invoke` instead.\n",
      "  response = rag_chain.run(query)\n"
     ]
    },
    {
     "name": "stdout",
     "output_type": "stream",
     "text": [
      "According to Jennifer Jenkins, the public domain is the realm of material that is not covered by intellectual property rights and is therefore free for everyone to use and to build upon.\n"
     ]
    }
   ],
   "source": [
    "from langchain.chains import RetrievalQA\n",
    "\n",
    "# Create the retriever from your vectorstore\n",
    "retriever = vectorstore.as_retriever()\n",
    "\n",
    "# Create the RAG chain (retrieval-augmented generation)\n",
    "rag_chain = RetrievalQA.from_chain_type(\n",
    "    llm=llm,\n",
    "    chain_type=\"stuff\",  # standard prompt-stuffing approach\n",
    "    retriever=retriever\n",
    ")\n",
    "\n",
    "# Test it\n",
    "query = \"What is public domain according to Jenkins?\"\n",
    "response = rag_chain.run(query)\n",
    "print(response)\n"
   ]
  },
  {
   "cell_type": "code",
   "execution_count": 14,
   "id": "231251d3",
   "metadata": {},
   "outputs": [
    {
     "name": "stdout",
     "output_type": "stream",
     "text": [
      "Unfortunately, I don't have information on Chapter 4 of the text you provided. The text only mentions that the chapter will proceed by providing an overview of current ambiguity in the boundaries of the public domain in recent UK and selected international case law, as well as resulting challenges raised for potential users.\n"
     ]
    }
   ],
   "source": [
    "query = \"What is the legal framework discussed in Chapter 4 on the public domain?\"\n",
    "response = rag_chain.run(query)\n",
    "print(response)\n"
   ]
  },
  {
   "cell_type": "markdown",
   "id": "cb37496e",
   "metadata": {},
   "source": [
    "## Multi-User (User ID Handling) First Approach that didn't work well with retrieving tool"
   ]
  },
  {
   "cell_type": "code",
   "execution_count": 7,
   "id": "0a2ba49c",
   "metadata": {},
   "outputs": [],
   "source": [
    "from langchain.agents import Tool\n",
    "from langchain.tools.retriever import create_retriever_tool\n",
    "\n",
    "retriever = vectorstore.as_retriever()\n",
    "\n",
    "retriever_tool = create_retriever_tool(\n",
    "    retriever,\n",
    "    name=\"document_search\",\n",
    "    description=\"Use this tool to search information from uploaded documents\"\n",
    ")\n"
   ]
  },
  {
   "cell_type": "code",
   "execution_count": 30,
   "id": "af7052dc",
   "metadata": {},
   "outputs": [],
   "source": [
    "from langchain.tools import tool\n",
    "\n",
    "@tool\n",
    "def document_search(query: str) -> str:\n",
    "    \"\"\"\n",
    "    Use this tool to search information from uploaded documents.\n",
    "    \"\"\"\n",
    "    results = retriever.invoke(query)\n",
    "    return str(results)"
   ]
  },
  {
   "cell_type": "code",
   "execution_count": 34,
   "id": "f03e85d4",
   "metadata": {},
   "outputs": [],
   "source": [
    "def document_search(query: str) -> str:\n",
    "    results = retriever.invoke(query)\n",
    "    return str(results)\n",
    "\n",
    "# ✅ Wrap in Tool\n",
    "retriever_tool = Tool(\n",
    "    name=\"document_search\",\n",
    "    func=document_search,\n",
    "    description=\"Use this tool to search information from uploaded documents.\"\n",
    ")"
   ]
  },
  {
   "cell_type": "code",
   "execution_count": 35,
   "id": "60f19d53",
   "metadata": {},
   "outputs": [
    {
     "data": {
      "text/plain": [
       "<langgraph.graph.graph.Graph at 0x170d9d56190>"
      ]
     },
     "execution_count": 35,
     "metadata": {},
     "output_type": "execute_result"
    }
   ],
   "source": [
    "from langgraph.graph import Graph\n",
    "from langgraph.prebuilt import create_react_agent\n",
    "from langgraph.checkpoint.memory import MemorySaver\n",
    "\n",
    "# 1. Define tools and agent\n",
    "tools = [retriever_tool]\n",
    "memory = MemorySaver()\n",
    "agent_node = create_react_agent(llm, tools, checkpointer=memory)\n",
    "\n",
    "# 2. Build graph\n",
    "graph = Graph()\n",
    "graph.add_node(\"agent\", agent_node)\n",
    "graph.set_entry_point(\"agent\")\n",
    "graph.set_finish_point(\"agent\")  # ✅ tells LangGraph to return output from this node\n",
    "\n"
   ]
  },
  {
   "cell_type": "code",
   "execution_count": 38,
   "id": "8a3289db",
   "metadata": {},
   "outputs": [],
   "source": [
    "# ✅ Compile your graph\n",
    "app = graph.compile()\n",
    "\n",
    "def chat_with_docs(message, thread_id, user_id):\n",
    "    config = {\"configurable\": {\"thread_id\": thread_id}}\n",
    "    input_message = {\"role\": \"user\", \"content\": message}\n",
    "    output = app.invoke({\"messages\": [input_message]}, config)\n",
    "    print(output)\n",
    "    return output[\"messages\"][-1].content\n",
    "    # # ✅ Use app.stream() instead of graph.stream()\n",
    "    # for step in app.stream(\n",
    "    #     {\"messages\": [input_message]},\n",
    "    #     config,\n",
    "    #     stream_mode=\"values\"\n",
    "    # ):\n",
    "    #     step[\"messages\"][-1].pretty_print()\n",
    "    #     new_content = step[\"messages\"][-1].content\n",
    "\n",
    "    # return new_content\n"
   ]
  },
  {
   "cell_type": "code",
   "execution_count": 39,
   "id": "3fbeab73",
   "metadata": {},
   "outputs": [
    {
     "name": "stdout",
     "output_type": "stream",
     "text": [
      "{'messages': [HumanMessage(content='What is the legal framework discussed in Chapter 4 on the public domain?', additional_kwargs={}, response_metadata={}, id='9ba31e9e-d973-467e-bca9-5fd4bb08edc3'), AIMessage(content='<document_search>Legal framework discussed in Chapter 4 on the public domain</document_search>', additional_kwargs={}, response_metadata={'token_usage': {'completion_tokens': 20, 'prompt_tokens': 243, 'total_tokens': 263, 'completion_time': 0.035954456, 'prompt_time': 0.014453326, 'queue_time': 0.089416197, 'total_time': 0.050407782}, 'model_name': 'llama-3.1-8b-instant', 'system_fingerprint': 'fp_8ab2e50475', 'finish_reason': 'stop', 'logprobs': None}, id='run--735a7d65-a8d4-4819-a1d4-86bcbf2094ad-0', usage_metadata={'input_tokens': 243, 'output_tokens': 20, 'total_tokens': 263})]}\n",
      "<document_search>Legal framework discussed in Chapter 4 on the public domain</document_search>\n"
     ]
    }
   ],
   "source": [
    "thread_id = \"abc1234\"\n",
    "user_id = \"678\"\n",
    "# message = \"What is the legal framework discussed in Chapter 4 on the public domain?\"\n",
    "# message = \"Hi, I'm Youssef!\"\n",
    "message = \"What is the legal framework discussed in Chapter 4 on the public domain?\"\n",
    "final_response = chat_with_docs(message, thread_id, user_id)\n",
    "print(final_response)"
   ]
  },
  {
   "cell_type": "markdown",
   "id": "71abc13a",
   "metadata": {},
   "source": [
    "## Multi-User (User ID Handling) Second Approach with chat history managed manually"
   ]
  },
  {
   "cell_type": "code",
   "execution_count": null,
   "id": "963f6440",
   "metadata": {},
   "outputs": [],
   "source": [
    "examples=[\n",
    "    \"What is the legal framework discussed in Chapter 4 on the public domain?\",\n",
    "    \"How do the authors define cultural commons?\",\n",
    "    \"Why does Vox argue that the public domain is shrinking?\",\n",
    "    \"How does the public domain support creativity according to the Vox PDF?\",\n",
    "    \"What role does the public domain play in access to knowledge?\",\n",
    "    \"How does copyright affect the spread of knowledge?\",\n",
    "    \"What are the main effects of books entering the public domain?\",\n",
    "    \"How does the public benefit when copyright expires?\"\n",
    "]"
   ]
  },
  {
   "cell_type": "code",
   "execution_count": null,
   "id": "debedf35",
   "metadata": {},
   "outputs": [],
   "source": [
    "from langchain.agents import initialize_agent, Tool, AgentType\n",
    "from langchain.memory import ConversationBufferMemory\n",
    "\n",
    "# Global session store\n",
    "user_sessions = {}\n",
    "\n",
    "def document_search(query: str) -> str:\n",
    "    results = retriever.invoke(query)\n",
    "    return str(results)\n",
    "\n",
    "retriever_tool = Tool(\n",
    "    name=\"document_search\",\n",
    "    func=document_search,\n",
    "    description=\"Use this tool to search information from uploaded documents.\"\n",
    ")\n",
    "\n",
    "tools = [retriever_tool]\n",
    "\n",
    "def get_user_agent(user_id):\n",
    "    # Check if agent exists for this user\n",
    "    if user_id not in user_sessions:\n",
    "        # Initialize new memory and agent for this user\n",
    "        memory = ConversationBufferMemory(memory_key=\"chat_history\", return_messages=True)\n",
    "        agent = initialize_agent(\n",
    "            tools=tools,\n",
    "            llm=llm,\n",
    "            agent=AgentType.CONVERSATIONAL_REACT_DESCRIPTION,\n",
    "            memory=memory,\n",
    "            verbose=True\n",
    "        )\n",
    "        user_sessions[user_id] = agent\n",
    "    return user_sessions[user_id]\n",
    "\n",
    "# Function to handle chat for multi-users\n",
    "def chat_with_docs(message, user_id):\n",
    "    agent = get_user_agent(user_id)\n",
    "    return agent.run(message)\n"
   ]
  },
  {
   "cell_type": "code",
   "execution_count": null,
   "id": "6019afdd",
   "metadata": {},
   "outputs": [
    {
     "name": "stderr",
     "output_type": "stream",
     "text": [
      "C:\\Users\\Youssef_Mahmoud\\AppData\\Local\\Temp\\ipykernel_14188\\1612736705.py:24: LangChainDeprecationWarning: Please see the migration guide at: https://python.langchain.com/docs/versions/migrating_memory/\n",
      "  memory = ConversationBufferMemory(memory_key=\"chat_history\", return_messages=True)\n",
      "C:\\Users\\Youssef_Mahmoud\\AppData\\Local\\Temp\\ipykernel_14188\\1612736705.py:25: LangChainDeprecationWarning: LangChain agents will continue to be supported, but it is recommended for new use cases to be built with LangGraph. LangGraph offers a more flexible and full-featured framework for building agents, including support for tool-calling, persistence of state, and human-in-the-loop workflows. For details, refer to the `LangGraph documentation <https://langchain-ai.github.io/langgraph/>`_ as well as guides for `Migrating from AgentExecutor <https://python.langchain.com/docs/how_to/migrate_agent/>`_ and LangGraph's `Pre-built ReAct agent <https://langchain-ai.github.io/langgraph/how-tos/create-react-agent/>`_.\n",
      "  agent = initialize_agent(\n"
     ]
    },
    {
     "name": "stdout",
     "output_type": "stream",
     "text": [
      "\n",
      "\n",
      "\u001b[1m> Entering new AgentExecutor chain...\u001b[0m\n",
      "\u001b[32;1m\u001b[1;3mThought: Do I need to use a tool? Yes\n",
      "Action: document_search\n",
      "Action Input: Chapter 4 on the public domain\u001b[0m\n",
      "Observation: \u001b[36;1m\u001b[1;3m[Document(id='aa5fbc61-17d6-4dbd-abf9-a118db17877c', metadata={'producer': 'Mac OS X 10.11.6 Quartz PDFContext', 'creator': 'Word', 'creationdate': \"D:20200106170812Z00'00'\", 'source': 'PDFs/Erickson_Kretschmer_Mendis_chapter_4_PD.pdf', 'file_path': 'PDFs/Erickson_Kretschmer_Mendis_chapter_4_PD.pdf', 'total_pages': 30, 'format': 'PDF 1.3', 'title': 'Erickson_Kretschmer_Mendis_Elgar_Ch4_Drexl (3)', 'author': '', 'subject': '', 'keywords': '', 'moddate': \"D:20200106170812Z00'00'\", 'trapped': '', 'modDate': \"D:20200106170812Z00'00'\", 'creationDate': \"D:20200106170812Z00'00'\", 'page': 3}, page_content='The chapter will proceed by providing an overview of current ambiguity in \\nthe boundaries of the public domain in recent UK and selected international \\ncase law, as well as resulting challenges raised for potential users. Thereafter, \\nthe chapter will develop and justify the working definition of the public \\ndomain adopted for the purposes of the empirical Study, which includes works, \\nportions of works and materials which are available for uptake by all, regard-'), Document(id='24a2dfc6-ebe0-4afb-9deb-8917c4a13527', metadata={'producer': 'Prince 15.2 (www.princexml.com)', 'creator': 'Appligent AppendPDF Pro 6.3', 'creationdate': '2024-03-21T13:23:12-07:00', 'source': 'PDFs/Public Domain and Access to Knowledge.pdf', 'file_path': 'PDFs/Public Domain and Access to Knowledge.pdf', 'total_pages': 55, 'format': 'PDF 1.7', 'title': 'Public Domain and Access to Knowledge', 'author': 'Faith O. Majekolagbe', 'subject': '', 'keywords': '', 'moddate': '2024-03-21T13:23:12-07:00', 'trapped': '', 'modDate': \"D:20240321132312-07'00'\", 'creationDate': \"D:20240321132312-07'00'\", 'page': 4}, page_content='development. Section three discusses some legal, technological, and contractual \\nthreats to this notion of an accessible public domain and considers how these \\nthreats may be addressed in the interest of access to knowledge.  Section four \\nargues for the need to legally recognize, protect, and enrich the global public \\ndomain and recommends steps that should be taken in this direction.  Section \\nfive then concludes by suggesting that one of the ways the international copyright'), Document(id='b6e9f962-c5bf-40d4-bbcf-783d00b6c8c4', metadata={'producer': 'Prince 15.2 (www.princexml.com)', 'creator': 'Appligent AppendPDF Pro 6.3', 'creationdate': '2024-03-21T13:23:12-07:00', 'source': 'PDFs/Public Domain and Access to Knowledge.pdf', 'file_path': 'PDFs/Public Domain and Access to Knowledge.pdf', 'total_pages': 55, 'format': 'PDF 1.7', 'title': 'Public Domain and Access to Knowledge', 'author': 'Faith O. Majekolagbe', 'subject': '', 'keywords': '', 'moddate': '2024-03-21T13:23:12-07:00', 'trapped': '', 'modDate': \"D:20240321132312-07'00'\", 'creationDate': \"D:20240321132312-07'00'\", 'page': 46}, page_content='preserving the public domain and the free availability and accessibility of its \\nelements.  The absence of a legal definition or regime for the public domain \\npresents challenges to the advancement, conservation, and accessibility of the \\npublic domain.295  Benabou and Dusollier have also argued in favour of a specific \\nregime for the public domain.  They contend that the public domain should not \\njust be looked at through the lens of copyright, “but should be considered on its'), Document(id='8c893ee8-4ca3-4456-8e18-68957d764860', metadata={'producer': 'Prince 15.2 (www.princexml.com)', 'creator': 'Appligent AppendPDF Pro 6.3', 'creationdate': '2024-03-21T13:23:12-07:00', 'source': 'PDFs/Public Domain and Access to Knowledge.pdf', 'file_path': 'PDFs/Public Domain and Access to Knowledge.pdf', 'total_pages': 55, 'format': 'PDF 1.7', 'title': 'Public Domain and Access to Knowledge', 'author': 'Faith O. Majekolagbe', 'subject': '', 'keywords': '', 'moddate': '2024-03-21T13:23:12-07:00', 'trapped': '', 'modDate': \"D:20240321132312-07'00'\", 'creationDate': \"D:20240321132312-07'00'\", 'page': 15}, page_content='Having considered how scholars have defined the scope of the public \\ndomain, in summary and for the purpose of this Article the public domain is a \\npublic realm that contains: (i) works that are no longer protected by copyright \\n(for example, because of expiration of term, or a subsequent removal from the \\nscope of protected works under law, or an opt-out of copyright protection by \\nthe copyright owner); (ii) unprotected elements of works in which copyright')]\u001b[0m\n",
      "Thought:\u001b[32;1m\u001b[1;3mThought: Do I need to use a tool? No\n",
      "AI: The legal framework discussed in Chapter 4 on the public domain is centered around the concept of an accessible public domain. The chapter argues for the need to legally recognize, protect, and enrich the global public domain. It also discusses some legal, technological, and contractual threats to this notion and recommends steps to address them in the interest of access to knowledge. The chapter concludes by suggesting that one of the ways the international copyright system can be improved is by preserving the public domain and the free availability and accessibility of its elements.\u001b[0m\n",
      "\n",
      "\u001b[1m> Finished chain.\u001b[0m\n",
      "The legal framework discussed in Chapter 4 on the public domain is centered around the concept of an accessible public domain. The chapter argues for the need to legally recognize, protect, and enrich the global public domain. It also discusses some legal, technological, and contractual threats to this notion and recommends steps to address them in the interest of access to knowledge. The chapter concludes by suggesting that one of the ways the international copyright system can be improved is by preserving the public domain and the free availability and accessibility of its elements.\n"
     ]
    }
   ],
   "source": [
    "# Example usage\n",
    "user_id = \"abc1234\"\n",
    "message = \"What is the legal framework discussed in Chapter 4 on the public domain?\"\n",
    "response = chat_with_docs(message, user_id)\n",
    "print(response)"
   ]
  },
  {
   "cell_type": "code",
   "execution_count": 44,
   "id": "2868405b",
   "metadata": {},
   "outputs": [
    {
     "name": "stdout",
     "output_type": "stream",
     "text": [
      "* Running on local URL:  http://127.0.0.1:7861\n",
      "* To create a public link, set `share=True` in `launch()`.\n"
     ]
    },
    {
     "data": {
      "text/html": [
       "<div><iframe src=\"http://127.0.0.1:7861/\" width=\"100%\" height=\"500\" allow=\"autoplay; camera; microphone; clipboard-read; clipboard-write;\" frameborder=\"0\" allowfullscreen></iframe></div>"
      ],
      "text/plain": [
       "<IPython.core.display.HTML object>"
      ]
     },
     "metadata": {},
     "output_type": "display_data"
    },
    {
     "name": "stdout",
     "output_type": "stream",
     "text": [
      "\n",
      "\n",
      "\u001b[1m> Entering new AgentExecutor chain...\u001b[0m\n",
      "\u001b[32;1m\u001b[1;3mThought: Do I need to use a tool? No\n",
      "AI: Hello Youssef, it's nice to meet you again. I remember our previous conversation about the public domain. How can I assist you today?\u001b[0m\n",
      "\n",
      "\u001b[1m> Finished chain.\u001b[0m\n",
      "\n",
      "\n",
      "\u001b[1m> Entering new AgentExecutor chain...\u001b[0m\n",
      "\u001b[32;1m\u001b[1;3mThought: Do I need to use a tool? No\n",
      "AI: Hello Youssef, it's nice to meet you. I'm Assistant, a large language model here to help with any questions or topics you'd like to discuss. How are you today?\u001b[0m\n",
      "\n",
      "\u001b[1m> Finished chain.\u001b[0m\n",
      "\n",
      "\n",
      "\u001b[1m> Entering new AgentExecutor chain...\u001b[0m\n",
      "\u001b[32;1m\u001b[1;3mThought: Do I need to use a tool? Yes\n",
      "Action: document_search\n",
      "Action Input: search for information about public domain and creativity in the Vox PDF\u001b[0m\n",
      "Observation: \u001b[36;1m\u001b[1;3m[Document(id='ef62d023-67d8-4842-9bda-0d12706c257b', metadata={'producer': 'Mac OS X 10.11.6 Quartz PDFContext', 'creator': 'Word', 'creationdate': \"D:20200106170812Z00'00'\", 'source': 'PDFs/Erickson_Kretschmer_Mendis_chapter_4_PD.pdf', 'file_path': 'PDFs/Erickson_Kretschmer_Mendis_chapter_4_PD.pdf', 'total_pages': 30, 'format': 'PDF 1.3', 'title': 'Erickson_Kretschmer_Mendis_Elgar_Ch4_Drexl (3)', 'author': '', 'subject': '', 'keywords': '', 'moddate': \"D:20200106170812Z00'00'\", 'trapped': '', 'modDate': \"D:20200106170812Z00'00'\", 'creationDate': \"D:20200106170812Z00'00'\", 'page': 0}, page_content='Kris Erickson, Martin Kretschmer and Dinusha Mendis \\n \\n \\n1 \\nINTRODUCTION \\n \\nCreative practices in the digital era and access to the reservoir of works and \\nideas that we call ‘the public domain’ are intertwined in complex and comple- \\nmentary ways.1 Digitalisation has made it possible for the first time for users \\nto access a near infinitude of works – including copyright works – as well as to \\ncreate and distribute digital copies of works across borders and through a range'), Document(id='197c1f48-9cb3-46c6-a69d-7501308bd8b2', metadata={'producer': 'Mac OS X 10.11.6 Quartz PDFContext', 'creator': 'Word', 'creationdate': \"D:20200106170812Z00'00'\", 'source': 'PDFs/Erickson_Kretschmer_Mendis_chapter_4_PD.pdf', 'file_path': 'PDFs/Erickson_Kretschmer_Mendis_chapter_4_PD.pdf', 'total_pages': 30, 'format': 'PDF 1.3', 'title': 'Erickson_Kretschmer_Mendis_Elgar_Ch4_Drexl (3)', 'author': '', 'subject': '', 'keywords': '', 'moddate': \"D:20200106170812Z00'00'\", 'trapped': '', 'modDate': \"D:20200106170812Z00'00'\", 'creationDate': \"D:20200106170812Z00'00'\", 'page': 3}, page_content='8 C. Waelde and H. MacQueen, The Many Faces of the Public Domain (Cheltenham, \\nUK & Northampton, MA: Edward Elgar, 2007). \\n9 See commentaries by C. Waelde, R. Deazley, F. McMillan, G. Davies, F.M. \\nGrosheide, G. Dutfield, J. Gibson, R. Susskind, J. Cahir and Ors in C. Waelde and H. \\nMacQueen, n. 8 above. See also K. Erickson and M. Kretschmer (eds.), ‘Research \\nPerspectives on the Public Domain: Digital Conference Proceedings’, CREATe'), Document(id='a304e05d-344f-4afa-9290-07bae39416aa', metadata={'producer': 'Mac OS X 10.11.6 Quartz PDFContext', 'creator': 'Word', 'creationdate': \"D:20200106170812Z00'00'\", 'source': 'PDFs/Erickson_Kretschmer_Mendis_chapter_4_PD.pdf', 'file_path': 'PDFs/Erickson_Kretschmer_Mendis_chapter_4_PD.pdf', 'total_pages': 30, 'format': 'PDF 1.3', 'title': 'Erickson_Kretschmer_Mendis_Elgar_Ch4_Drexl (3)', 'author': '', 'subject': '', 'keywords': '', 'moddate': \"D:20200106170812Z00'00'\", 'trapped': '', 'modDate': \"D:20200106170812Z00'00'\", 'creationDate': \"D:20200106170812Z00'00'\", 'page': 3}, page_content='aim is to explore the ‘boundary’ between copyright law and the public domain, \\nand identify from concrete examples where the uncertainties lie. Some uses \\nof public domain work are straightforward, such as republication of old, out \\nof copyright literary works. However, much current digital creativity involves \\nremixing and recombination of work that may incorporate ideas or elements \\n \\n \\n8 C. Waelde and H. MacQueen, The Many Faces of the Public Domain (Cheltenham,'), Document(id='9392bc0f-9897-4cbe-9abb-cbd34128e69c', metadata={'producer': 'Mac OS X 10.11.6 Quartz PDFContext', 'creator': 'Word', 'creationdate': \"D:20200106170812Z00'00'\", 'source': 'PDFs/Erickson_Kretschmer_Mendis_chapter_4_PD.pdf', 'file_path': 'PDFs/Erickson_Kretschmer_Mendis_chapter_4_PD.pdf', 'total_pages': 30, 'format': 'PDF 1.3', 'title': 'Erickson_Kretschmer_Mendis_Elgar_Ch4_Drexl (3)', 'author': '', 'subject': '', 'keywords': '', 'moddate': \"D:20200106170812Z00'00'\", 'trapped': '', 'modDate': \"D:20200106170812Z00'00'\", 'creationDate': \"D:20200106170812Z00'00'\", 'page': 28}, page_content='from other public domain ‘inputs’ to that same creative production; nor can \\nthe increasing number of creative outputs, such as those offered under free \\nand unrestricted open licences, be easily counted as part of a tabulation of the \\ncontribution by ‘copyright industries’. \\nIndeed, a key finding of the research is that creative managers who report \\nsuccess with exploitation of public domain materials also report experience')]\u001b[0m\n",
      "Thought:\u001b[32;1m\u001b[1;3mThought: Do I need to use a tool? No\n",
      "AI: According to the Vox PDF, the public domain supports creativity by providing a reservoir of works and ideas that can be accessed and used by users. This allows for the creation and distribution of digital copies of works across borders, enabling remixing and recombination of work that may incorporate ideas or elements from other public domain \"inputs\". The public domain also enables the exploitation of public domain materials, which can lead to success in creative endeavors. However, the boundaries between copyright law and the public domain can be uncertain, and the increasing number of creative outputs under free and unrestricted open licenses can make it difficult to tabulate the contribution of \"copyright industries\".\u001b[0m\n",
      "\n",
      "\u001b[1m> Finished chain.\u001b[0m\n",
      "\n",
      "\n",
      "\u001b[1m> Entering new AgentExecutor chain...\u001b[0m\n",
      "\u001b[32;1m\u001b[1;3mThought: Do I need to use a tool? No\n",
      "AI: Your name is Youssef, as you mentioned earlier in our conversation.\u001b[0m\n",
      "\n",
      "\u001b[1m> Finished chain.\u001b[0m\n",
      "\n",
      "\n",
      "\u001b[1m> Entering new AgentExecutor chain...\u001b[0m\n",
      "\u001b[32;1m\u001b[1;3mThought: Do I need to use a tool? No\n",
      "AI: I'm not aware of your name, but I'm happy to chat with you. How can I assist you today?\u001b[0m\n",
      "\n",
      "\u001b[1m> Finished chain.\u001b[0m\n"
     ]
    }
   ],
   "source": [
    "import gradio as gr\n",
    "\n",
    "# ✅ Gradio interface definition\n",
    "with gr.Blocks() as demo:\n",
    "    gr.Markdown(\"### 📚 Multi-user Document QA Chatbot\")\n",
    "    \n",
    "    with gr.Row():\n",
    "        user_id_input = gr.Textbox(label=\"User ID\")\n",
    "    \n",
    "    with gr.Row():\n",
    "        message_input = gr.Textbox(label=\"Your Message\")\n",
    "    \n",
    "    output = gr.Textbox(label=\"Agent Response\")\n",
    "\n",
    "    submit_btn = gr.Button(\"Send\")\n",
    "    \n",
    "    submit_btn.click(\n",
    "        fn=chat_with_docs,\n",
    "        inputs=[message_input, user_id_input],\n",
    "        outputs=output\n",
    "    )\n",
    "\n",
    "# ✅ Launch Gradio app\n",
    "if __name__ == \"__main__\":\n",
    "    demo.launch()\n"
   ]
  },
  {
   "cell_type": "markdown",
   "id": "ceaf1b6f",
   "metadata": {},
   "source": [
    "## (Redis) Multi-user conversational that stores conversation history for each user separately."
   ]
  },
  {
   "cell_type": "markdown",
   "id": "c52dad96",
   "metadata": {},
   "source": [
    "### Redis approach following documentation"
   ]
  },
  {
   "cell_type": "code",
   "execution_count": null,
   "id": "8dbc1799",
   "metadata": {},
   "outputs": [],
   "source": [
    "!pip install -qU langchain-redis langchain-openai redis\n",
    "!pip install langchain_redis\n"
   ]
  },
  {
   "cell_type": "code",
   "execution_count": 9,
   "id": "d8986e1a",
   "metadata": {},
   "outputs": [
    {
     "name": "stdout",
     "output_type": "stream",
     "text": [
      "Connecting to Redis at: redis://localhost:6379\n"
     ]
    }
   ],
   "source": [
    "import os\n",
    "\n",
    "# Use the environment variable if set, otherwise default to localhost\n",
    "REDIS_URL = os.getenv(\"REDIS_URL\", \"redis://localhost:6379\")\n",
    "print(f\"Connecting to Redis at: {REDIS_URL}\")"
   ]
  },
  {
   "cell_type": "code",
   "execution_count": null,
   "id": "bff8b10c",
   "metadata": {},
   "outputs": [],
   "source": [
    "from langchain_core.chat_history import BaseChatMessageHistory\n",
    "from langchain_core.prompts import ChatPromptTemplate, MessagesPlaceholder\n",
    "from langchain_core.runnables.history import RunnableWithMessageHistory\n",
    "from langchain_redis import RedisChatMessageHistory"
   ]
  },
  {
   "cell_type": "code",
   "execution_count": 16,
   "id": "859655ff",
   "metadata": {},
   "outputs": [
    {
     "name": "stdout",
     "output_type": "stream",
     "text": [
      "14:07:48 redisvl.index.index INFO   Index already exists, not overwriting.\n"
     ]
    },
    {
     "name": "stdout",
     "output_type": "stream",
     "text": [
      "Chat History:\n",
      "HumanMessage: Hello, AI assistant!\n",
      "AIMessage: Hello! How can I assist you today?\n",
      "HumanMessage: Hello, AI assistant!\n",
      "AIMessage: Hello! How can I assist you today?\n"
     ]
    }
   ],
   "source": [
    "# Initialize RedisChatMessageHistory\n",
    "history = RedisChatMessageHistory(session_id=\"user_123\", redis_url=REDIS_URL)\n",
    "\n",
    "# Add messages to the history\n",
    "history.add_user_message(\"Hello, AI assistant!\")\n",
    "history.add_ai_message(\"Hello! How can I assist you today?\")\n",
    "\n",
    "# Retrieve messages\n",
    "print(\"Chat History:\")\n",
    "for message in history.messages:\n",
    "    print(f\"{type(message).__name__}: {message.content}\")"
   ]
  },
  {
   "cell_type": "code",
   "execution_count": 17,
   "id": "318f4ff4",
   "metadata": {},
   "outputs": [
    {
     "name": "stdout",
     "output_type": "stream",
     "text": [
      "14:07:51 redisvl.index.index INFO   Index already exists, not overwriting.\n"
     ]
    },
    {
     "name": "stdout",
     "output_type": "stream",
     "text": [
      "14:07:52 httpx INFO   HTTP Request: POST https://api.groq.com/openai/v1/chat/completions \"HTTP/1.1 200 OK\"\n",
      "AI Response 1: Hello Alice, we've already met. How can I assist you today?\n",
      "14:07:52 redisvl.index.index INFO   Index already exists, not overwriting.\n",
      "14:07:52 httpx INFO   HTTP Request: POST https://api.groq.com/openai/v1/chat/completions \"HTTP/1.1 200 OK\"\n",
      "AI Response 2: Your name is Alice.\n"
     ]
    }
   ],
   "source": [
    "# Create a prompt template\n",
    "prompt = ChatPromptTemplate.from_messages(\n",
    "    [\n",
    "        (\"system\", \"You are a helpful AI assistant.\"),\n",
    "        MessagesPlaceholder(variable_name=\"history\"),\n",
    "        (\"human\", \"{input}\"),\n",
    "    ]\n",
    ")\n",
    "\n",
    "\n",
    "# Create the conversational chain\n",
    "chain = prompt | llm\n",
    "\n",
    "\n",
    "# Function to get or create a RedisChatMessageHistory instance\n",
    "def get_redis_history(session_id: str) -> BaseChatMessageHistory:\n",
    "    return RedisChatMessageHistory(session_id, redis_url=REDIS_URL)\n",
    "\n",
    "\n",
    "# Create a runnable with message history\n",
    "chain_with_history = RunnableWithMessageHistory(\n",
    "    chain, get_redis_history, input_messages_key=\"input\", history_messages_key=\"history\"\n",
    ")\n",
    "\n",
    "# Use the chain in a conversation\n",
    "response1 = chain_with_history.invoke(\n",
    "    {\"input\": \"Hi, my name is Alice.\"},\n",
    "    config={\"configurable\": {\"session_id\": \"alice_123\"}},\n",
    ")\n",
    "print(\"AI Response 1:\", response1.content)\n",
    "\n",
    "response2 = chain_with_history.invoke(\n",
    "    {\"input\": \"What's my name?\"}, config={\"configurable\": {\"session_id\": \"alice_123\"}}\n",
    ")\n",
    "print(\"AI Response 2:\", response2.content)"
   ]
  },
  {
   "cell_type": "code",
   "execution_count": 19,
   "id": "69aa878f",
   "metadata": {},
   "outputs": [],
   "source": [
    "from langgraph.prebuilt import create_react_agent\n",
    "from langgraph.checkpoint.memory import MemorySaver\n",
    "\n",
    "memory = MemorySaver()  # optional if you want LangGraph memory; here you will use Redis\n",
    "\n",
    "tools = [retriever_tool]\n",
    "\n",
    "# Create the ReAct agent with the tool\n",
    "agent = create_react_agent(llm, tools)\n"
   ]
  },
  {
   "cell_type": "code",
   "execution_count": 26,
   "id": "a80a1623",
   "metadata": {},
   "outputs": [],
   "source": [
    "from langchain.memory import RedisChatMessageHistory\n",
    "\n",
    "def get_redis_history(session_id: str):\n",
    "    return RedisChatMessageHistory(session_id=session_id, url=REDIS_URL)\n"
   ]
  },
  {
   "cell_type": "code",
   "execution_count": 27,
   "id": "faf5b7c6",
   "metadata": {},
   "outputs": [],
   "source": [
    "from langchain_core.runnables.history import RunnableWithMessageHistory\n",
    "\n",
    "agent_with_history = RunnableWithMessageHistory(\n",
    "    agent,\n",
    "    get_redis_history,\n",
    "    input_messages_key=\"messages\",  # for agent inputs structured as messages\n",
    "    history_messages_key=\"history\",\n",
    ")\n"
   ]
  },
  {
   "cell_type": "code",
   "execution_count": null,
   "id": "0df71332",
   "metadata": {},
   "outputs": [
    {
     "name": "stdout",
     "output_type": "stream",
     "text": [
      "14:13:39 httpx INFO   HTTP Request: POST https://api.groq.com/openai/v1/chat/completions \"HTTP/1.1 200 OK\"\n",
      "14:13:40 httpx INFO   HTTP Request: POST https://api.groq.com/openai/v1/chat/completions \"HTTP/1.1 200 OK\"\n",
      "14:13:40 httpx INFO   HTTP Request: POST https://api.groq.com/openai/v1/chat/completions \"HTTP/1.1 200 OK\"\n",
      "14:13:40 httpx INFO   HTTP Request: POST https://api.groq.com/openai/v1/chat/completions \"HTTP/1.1 200 OK\"\n",
      "14:13:41 httpx INFO   HTTP Request: POST https://api.groq.com/openai/v1/chat/completions \"HTTP/1.1 200 OK\"\n",
      "14:13:41 httpx INFO   HTTP Request: POST https://api.groq.com/openai/v1/chat/completions \"HTTP/1.1 429 Too Many Requests\"\n",
      "14:13:41 groq._base_client INFO   Retrying request to /openai/v1/chat/completions in 23.000000 seconds\n",
      "14:14:05 httpx INFO   HTTP Request: POST https://api.groq.com/openai/v1/chat/completions \"HTTP/1.1 200 OK\"\n",
      "14:14:05 httpx INFO   HTTP Request: POST https://api.groq.com/openai/v1/chat/completions \"HTTP/1.1 429 Too Many Requests\"\n",
      "14:14:05 groq._base_client INFO   Retrying request to /openai/v1/chat/completions in 27.000000 seconds\n",
      "14:14:33 httpx INFO   HTTP Request: POST https://api.groq.com/openai/v1/chat/completions \"HTTP/1.1 200 OK\"\n",
      "14:14:33 httpx INFO   HTTP Request: POST https://api.groq.com/openai/v1/chat/completions \"HTTP/1.1 429 Too Many Requests\"\n",
      "14:14:33 groq._base_client INFO   Retrying request to /openai/v1/chat/completions in 31.000000 seconds\n",
      "14:15:05 httpx INFO   HTTP Request: POST https://api.groq.com/openai/v1/chat/completions \"HTTP/1.1 200 OK\"\n",
      "14:15:05 httpx INFO   HTTP Request: POST https://api.groq.com/openai/v1/chat/completions \"HTTP/1.1 429 Too Many Requests\"\n",
      "14:15:05 groq._base_client INFO   Retrying request to /openai/v1/chat/completions in 35.000000 seconds\n",
      "14:15:41 httpx INFO   HTTP Request: POST https://api.groq.com/openai/v1/chat/completions \"HTTP/1.1 200 OK\"\n",
      "14:15:41 httpx INFO   HTTP Request: POST https://api.groq.com/openai/v1/chat/completions \"HTTP/1.1 429 Too Many Requests\"\n",
      "14:15:41 groq._base_client INFO   Retrying request to /openai/v1/chat/completions in 40.000000 seconds\n"
     ]
    }
   ],
   "source": [
    "# Example usage\n",
    "input_message = {\"role\": \"user\", \"content\": \"What's the legal framework of public domain?\"}\n",
    "\n",
    "response = agent_with_history.invoke(\n",
    "    {\"messages\": [input_message]},\n",
    "    config={\"configurable\": {\"session_id\": \"user_123\"}},\n",
    ")\n",
    "\n",
    "print(\"AI Response:\", response[\"messages\"][-1].content)\n"
   ]
  },
  {
   "cell_type": "markdown",
   "id": "3899b4a2",
   "metadata": {},
   "source": [
    "### Gradio App with Chat history per each user"
   ]
  },
  {
   "cell_type": "code",
   "execution_count": null,
   "id": "ede25aa9",
   "metadata": {},
   "outputs": [],
   "source": [
    "import gradio as gr\n",
    "import redis\n",
    "import pickle\n",
    "from langchain.agents import initialize_agent, Tool, AgentType\n",
    "from langchain.memory import ConversationBufferMemory\n",
    "from langchain.memory.chat_message_histories import RedisChatMessageHistory\n",
    "\n",
    "\n",
    "#  Define retriever tool function\n",
    "def document_search(query: str) -> str:\n",
    "    results = retriever.invoke(query)\n",
    "    return str(results)\n",
    "\n",
    "retriever_tool = Tool(\n",
    "    name=\"document_search\",\n",
    "    func=document_search,\n",
    "    description=\"Use this tool to search information from uploaded documents.\"\n",
    ")\n",
    "\n",
    "tools = [retriever_tool]\n",
    "\n",
    "# Initialize Redis client\n",
    "redis_client = redis.Redis(host=\"localhost\", port=6379, db=0)\n",
    "\n",
    "#  Function to get agent with Redis-backed memory\n",
    "def get_user_agent(user_id):\n",
    "    chat_history = RedisChatMessageHistory(\n",
    "        session_id=user_id,\n",
    "        url=\"redis://localhost:6379/0\"\n",
    "    )\n",
    "\n",
    "    memory = ConversationBufferMemory(\n",
    "        memory_key=\"chat_history\",\n",
    "        chat_memory=chat_history,\n",
    "        return_messages=True\n",
    "    )\n",
    "\n",
    "    agent = initialize_agent(\n",
    "        tools=tools,\n",
    "        llm=llm,\n",
    "        agent=AgentType.CONVERSATIONAL_REACT_DESCRIPTION,\n",
    "        memory=memory,\n",
    "        verbose=True\n",
    "    )\n",
    "    return agent, chat_history\n"
   ]
  },
  {
   "cell_type": "code",
   "execution_count": null,
   "id": "7775deed",
   "metadata": {},
   "outputs": [
    {
     "name": "stdout",
     "output_type": "stream",
     "text": [
      "* Running on local URL:  http://127.0.0.1:7864\n",
      "* To create a public link, set `share=True` in `launch()`.\n"
     ]
    },
    {
     "data": {
      "text/html": [
       "<div><iframe src=\"http://127.0.0.1:7864/\" width=\"100%\" height=\"500\" allow=\"autoplay; camera; microphone; clipboard-read; clipboard-write;\" frameborder=\"0\" allowfullscreen></iframe></div>"
      ],
      "text/plain": [
       "<IPython.core.display.HTML object>"
      ]
     },
     "metadata": {},
     "output_type": "display_data"
    },
    {
     "name": "stdout",
     "output_type": "stream",
     "text": [
      "\n",
      "\n",
      "\u001b[1m> Entering new AgentExecutor chain...\u001b[0m\n",
      "\u001b[32;1m\u001b[1;3mThought: Do I need to use a tool? No\n",
      "AI: Hello Youssef, it's nice to meet you. I'm Assistant, a large language model here to help with any questions or topics you'd like to discuss. How are you today?\u001b[0m\n",
      "\n",
      "\u001b[1m> Finished chain.\u001b[0m\n",
      "\n",
      "\n",
      "\u001b[1m> Entering new AgentExecutor chain...\u001b[0m\n",
      "\u001b[32;1m\u001b[1;3mThought: Do I need to use a tool? No\n",
      "AI: When copyright expires, the public benefits in several ways. One of the main benefits is that copyrighted works enter the public domain, which means that they are no longer protected by copyright law. This allows anyone to use, reproduce, and distribute the work without needing to obtain permission or pay royalties.\n",
      "\n",
      "As a result, the public can access and enjoy these works freely, which can lead to increased creativity, innovation, and cultural enrichment. For example, when a famous novel or movie enters the public domain, it can be freely adapted, remixed, and reinterpreted by others, leading to new and innovative works.\n",
      "\n",
      "Additionally, the expiration of copyright can also lead to the preservation of cultural heritage. When works enter the public domain, they are no longer subject to the risk of being lost or destroyed due to copyright restrictions. This allows libraries, archives, and museums to preserve and make these works available for future generations.\n",
      "\n",
      "Overall, the expiration of copyright can have a significant impact on the public, promoting creativity, innovation, and cultural enrichment, while also preserving cultural heritage for future generations.\u001b[0m\n",
      "\n",
      "\u001b[1m> Finished chain.\u001b[0m\n",
      "\n",
      "\n",
      "\u001b[1m> Entering new AgentExecutor chain...\u001b[0m\n",
      "\u001b[32;1m\u001b[1;3mThought: Do I need to use a tool? No\n",
      "AI: Your name is Youssef, as you mentioned earlier in our conversation.\u001b[0m\n",
      "\n",
      "\u001b[1m> Finished chain.\u001b[0m\n",
      "\n",
      "\n",
      "\u001b[1m> Entering new AgentExecutor chain...\u001b[0m\n",
      "\u001b[32;1m\u001b[1;3mThought: Do I need to use a tool? No\n",
      "AI: I'm not aware of your name, but I'm happy to chat with you. How can I assist you today?\u001b[0m\n",
      "\n",
      "\u001b[1m> Finished chain.\u001b[0m\n",
      "\n",
      "\n",
      "\u001b[1m> Entering new AgentExecutor chain...\u001b[0m\n",
      "\u001b[32;1m\u001b[1;3mThought: Do I need to use a tool? No\n",
      "AI: When copyright expires, the public benefits in several ways. One of the main benefits is that copyrighted works enter the public domain, which means that they are no longer protected by copyright law. This allows anyone to use, reproduce, and distribute the work without needing to obtain permission from the copyright holder.\n",
      "\n",
      "As a result, the public can access and enjoy these works without any restrictions, which can lead to increased creativity, innovation, and cultural enrichment. For example, classic books, movies, and music that are in the public domain can be freely used and adapted by artists, writers, and musicians, leading to new and interesting creations.\n",
      "\n",
      "Additionally, when copyright expires, the works become available for free, which can be especially beneficial for educational institutions, researchers, and individuals who may not have the resources to purchase or license copyrighted materials. This can also lead to increased access to knowledge and information, which can have a positive impact on society as a whole.\n",
      "\n",
      "Overall, the expiration of copyright can have a significant impact on the public, allowing them to access and enjoy a wide range of creative works without any restrictions.\u001b[0m\n",
      "\n",
      "\u001b[1m> Finished chain.\u001b[0m\n"
     ]
    }
   ],
   "source": [
    "def chat_with_docs(message, user_id):\n",
    "    agent, _ = get_user_agent(user_id)\n",
    "    response = agent.run(message)\n",
    "    return response\n",
    "\n",
    "# Function to retrieve and format history for a user_id\n",
    "def view_history(user_id):\n",
    "    _, chat_history = get_user_agent(user_id)\n",
    "    messages = chat_history.messages\n",
    "\n",
    "    if not messages:\n",
    "        return \"No history found for this user ID.\"\n",
    "\n",
    "    history_str = \"\"\n",
    "    for msg in messages:\n",
    "        role = \"User\" if msg.type == \"human\" else \"AI\"\n",
    "        history_str += f\"{role}: {msg.content}\\n\\n\"\n",
    "\n",
    "    return history_str\n",
    "\n",
    "# Gradio interface with two tabs\n",
    "with gr.Blocks() as demo:\n",
    "    gr.Markdown(\"### 📚 Multi-user Document QA Chatbot with Redis Memory and History Viewer\")\n",
    "\n",
    "    with gr.Tabs():\n",
    "        # 🔷 Tab 1: Chat\n",
    "        with gr.Tab(\"Chat\"):\n",
    "            with gr.Row():\n",
    "                user_id_input = gr.Textbox(label=\"User ID\")\n",
    "\n",
    "            with gr.Row():\n",
    "                message_input = gr.Textbox(label=\"Your Message\")\n",
    "\n",
    "            output = gr.Textbox(label=\"Agent Response\")\n",
    "\n",
    "            submit_btn = gr.Button(\"Send\")\n",
    "            submit_btn.click(\n",
    "                fn=chat_with_docs,\n",
    "                inputs=[message_input, user_id_input],\n",
    "                outputs=output\n",
    "            )\n",
    "\n",
    "        # 🔷 Tab 2: View History\n",
    "        with gr.Tab(\"View History\"):\n",
    "            user_id_history_input = gr.Textbox(label=\"User ID\")\n",
    "            history_output = gr.Textbox(label=\"Conversation History\", lines=20)\n",
    "\n",
    "            view_btn = gr.Button(\"View History\")\n",
    "            view_btn.click(\n",
    "                fn=view_history,\n",
    "                inputs=user_id_history_input,\n",
    "                outputs=history_output\n",
    "            )\n",
    "\n",
    "# Launch Gradio app\n",
    "if __name__ == \"__main__\":\n",
    "    demo.launch()\n"
   ]
  }
 ],
 "metadata": {
  "kernelspec": {
   "display_name": "base",
   "language": "python",
   "name": "python3"
  },
  "language_info": {
   "codemirror_mode": {
    "name": "ipython",
    "version": 3
   },
   "file_extension": ".py",
   "mimetype": "text/x-python",
   "name": "python",
   "nbconvert_exporter": "python",
   "pygments_lexer": "ipython3",
   "version": "3.11.7"
  }
 },
 "nbformat": 4,
 "nbformat_minor": 5
}
