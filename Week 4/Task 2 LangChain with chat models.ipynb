{
 "cells": [
  {
   "cell_type": "code",
   "execution_count": 1,
   "id": "3aeb5a31",
   "metadata": {},
   "outputs": [],
   "source": [
    "from langchain_core.prompts import ChatPromptTemplate\n",
    "from langchain_core.output_parsers import StrOutputParser\n"
   ]
  },
  {
   "cell_type": "code",
   "execution_count": null,
   "id": "0dbacc41",
   "metadata": {},
   "outputs": [],
   "source": [
    "from dotenv import load_dotenv\n",
    "import os\n",
    "import getpass\n",
    "\n",
    "\n",
    "# Load environment variables from .env file\n",
    "load_dotenv()\n",
    "\n",
    "# Access groq_key\n",
    "groq_key = os.getenv(\"GROQ_API_KEY\")\n",
    "\n",
    "if \"GROQ_API_KEY\" not in os.environ:\n",
    "    os.environ[\"GROQ_API_KEY\"] = getpass.getpass(groq_key)"
   ]
  },
  {
   "cell_type": "code",
   "execution_count": 16,
   "id": "9505d499",
   "metadata": {},
   "outputs": [],
   "source": [
    "!pip install -qU langchain-groq"
   ]
  },
  {
   "cell_type": "code",
   "execution_count": 17,
   "id": "fda1ffb2",
   "metadata": {},
   "outputs": [],
   "source": [
    "from langchain_groq import ChatGroq\n",
    "\n",
    "llm = ChatGroq(\n",
    "    model=\"llama-3.1-8b-instant\",\n",
    "    temperature=0,\n",
    "    max_tokens=None,\n",
    "    timeout=None,\n",
    "    max_retries=2,\n",
    "    # other params...\n",
    ")"
   ]
  },
  {
   "cell_type": "markdown",
   "id": "f1e41cdb",
   "metadata": {},
   "source": [
    "### Basic ChatPromptTemplate"
   ]
  },
  {
   "cell_type": "code",
   "execution_count": null,
   "id": "1ffe6358",
   "metadata": {},
   "outputs": [
    {
     "name": "stdout",
     "output_type": "stream",
     "text": [
      "The capital of Egypt is Cairo.\n"
     ]
    }
   ],
   "source": [
    "# Define a prompt template\n",
    "prompt = ChatPromptTemplate.from_messages([\n",
    "    (\"system\", \"You are a helpful assistant.\"),\n",
    "    (\"human\", \"{question}\")\n",
    "])\n",
    "\n",
    "# Chain it together\n",
    "chain = prompt | llm | StrOutputParser()\n",
    "\n",
    "# Use it\n",
    "response = chain.invoke({\"question\": \"What's the capital of Egypt?\"})\n",
    "print(response)"
   ]
  },
  {
   "cell_type": "markdown",
   "id": "38840488",
   "metadata": {},
   "source": [
    "### Prompt with Multiple Variables"
   ]
  },
  {
   "cell_type": "code",
   "execution_count": 9,
   "id": "b03d159d",
   "metadata": {},
   "outputs": [
    {
     "name": "stdout",
     "output_type": "stream",
     "text": [
      "Here is a summary of the text in bullet point style:\n",
      "\n",
      "• The Nile is the longest river in the world.\n",
      "• It flows through multiple countries in Africa.\n"
     ]
    }
   ],
   "source": [
    "prompt = ChatPromptTemplate.from_messages([\n",
    "    (\"system\", \"You are an assistant that summarizes documents.\"),\n",
    "    (\"human\", \"Please summarize this text in {style} style:\\n\\n{text}\")\n",
    "])\n",
    "\n",
    "chain = prompt | llm | StrOutputParser()\n",
    "\n",
    "response = chain.invoke({\n",
    "    \"text\": \"The Nile is the longest river in the world. It flows through multiple countries in Africa.\",\n",
    "    \"style\": \"bullet point\"\n",
    "})\n",
    "\n",
    "print(response)"
   ]
  },
  {
   "cell_type": "markdown",
   "id": "2608d9f4",
   "metadata": {},
   "source": [
    "### Few-Shot Prompting (with examples)"
   ]
  },
  {
   "cell_type": "code",
   "execution_count": 10,
   "id": "95c8279a",
   "metadata": {},
   "outputs": [
    {
     "name": "stdout",
     "output_type": "stream",
     "text": [
      "42\n"
     ]
    }
   ],
   "source": [
    "from langchain.prompts import FewShotChatMessagePromptTemplate\n",
    "\n",
    "examples = [\n",
    "    {\n",
    "        \"input\": \"2 + 2\",\n",
    "        \"output\": \"4\"\n",
    "    },\n",
    "    {\n",
    "        \"input\": \"10 * 3\",\n",
    "        \"output\": \"30\"\n",
    "    }\n",
    "]\n",
    "\n",
    "example_prompt = ChatPromptTemplate.from_messages([\n",
    "    (\"human\", \"{input}\"),\n",
    "    (\"ai\", \"{output}\")\n",
    "])\n",
    "\n",
    "few_shot_prompt = FewShotChatMessagePromptTemplate(\n",
    "    example_prompt=example_prompt,\n",
    "    examples=examples\n",
    ")\n",
    "\n",
    "final_prompt = ChatPromptTemplate.from_messages([\n",
    "    (\"system\", \"You are a calculator.\"),\n",
    "    few_shot_prompt,\n",
    "    (\"human\", \"{input}\")\n",
    "])\n",
    "\n",
    "chain = final_prompt | llm | StrOutputParser()\n",
    "response = chain.invoke({\"input\": \"7 * 6\"})\n",
    "print(response)\n"
   ]
  },
  {
   "cell_type": "code",
   "execution_count": 13,
   "id": "1b75ea21",
   "metadata": {},
   "outputs": [
    {
     "data": {
      "text/plain": [
       "\"'One two three four five.'\""
      ]
     },
     "execution_count": 13,
     "metadata": {},
     "output_type": "execute_result"
    }
   ],
   "source": [
    "from langchain_core.output_parsers import StrOutputParser\n",
    "\n",
    "# Without bind.\n",
    "chain = (\n",
    "    llm\n",
    "    | StrOutputParser()\n",
    ")\n",
    "\n",
    "chain.invoke(\"Repeat quoted words exactly: 'One two three four five.'\")\n",
    "# Output is 'One two three four five.'\n",
    "\n"
   ]
  },
  {
   "cell_type": "code",
   "execution_count": 14,
   "id": "32255824",
   "metadata": {},
   "outputs": [
    {
     "data": {
      "text/plain": [
       "\"'One two \""
      ]
     },
     "execution_count": 14,
     "metadata": {},
     "output_type": "execute_result"
    }
   ],
   "source": [
    "# With bind.\n",
    "chain = (\n",
    "    llm.bind(stop=[\"three\"])\n",
    "    | StrOutputParser()\n",
    ")\n",
    "\n",
    "chain.invoke(\"Repeat quoted words exactly: 'One two three four five.'\")\n",
    "# Output is 'One two'"
   ]
  }
 ],
 "metadata": {
  "kernelspec": {
   "display_name": "base",
   "language": "python",
   "name": "python3"
  },
  "language_info": {
   "codemirror_mode": {
    "name": "ipython",
    "version": 3
   },
   "file_extension": ".py",
   "mimetype": "text/x-python",
   "name": "python",
   "nbconvert_exporter": "python",
   "pygments_lexer": "ipython3",
   "version": "3.11.7"
  }
 },
 "nbformat": 4,
 "nbformat_minor": 5
}
