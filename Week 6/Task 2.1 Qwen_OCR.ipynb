{
  "nbformat": 4,
  "nbformat_minor": 0,
  "metadata": {
    "colab": {
      "provenance": [],
      "gpuType": "T4"
    },
    "kernelspec": {
      "name": "python3",
      "display_name": "Python 3"
    },
    "language_info": {
      "name": "python"
    },
    "accelerator": "GPU",
    "widgets": {
      "application/vnd.jupyter.widget-state+json": {
        "a33ab42d34024470900d34cf67bddd4a": {
          "model_module": "@jupyter-widgets/controls",
          "model_name": "HBoxModel",
          "model_module_version": "1.5.0",
          "state": {
            "_dom_classes": [],
            "_model_module": "@jupyter-widgets/controls",
            "_model_module_version": "1.5.0",
            "_model_name": "HBoxModel",
            "_view_count": null,
            "_view_module": "@jupyter-widgets/controls",
            "_view_module_version": "1.5.0",
            "_view_name": "HBoxView",
            "box_style": "",
            "children": [
              "IPY_MODEL_ab8771997dd842e4b5ca37dc92e53b91",
              "IPY_MODEL_06c58c45ffd4416eaf15556c3f9fc7e8",
              "IPY_MODEL_a75865f091e5464abc8c1ba1c4ab96f5"
            ],
            "layout": "IPY_MODEL_da142827d4b0424bbef565d0a9fff31e"
          }
        },
        "ab8771997dd842e4b5ca37dc92e53b91": {
          "model_module": "@jupyter-widgets/controls",
          "model_name": "HTMLModel",
          "model_module_version": "1.5.0",
          "state": {
            "_dom_classes": [],
            "_model_module": "@jupyter-widgets/controls",
            "_model_module_version": "1.5.0",
            "_model_name": "HTMLModel",
            "_view_count": null,
            "_view_module": "@jupyter-widgets/controls",
            "_view_module_version": "1.5.0",
            "_view_name": "HTMLView",
            "description": "",
            "description_tooltip": null,
            "layout": "IPY_MODEL_06f5c02b04d44712941d3e47b3d9f1dc",
            "placeholder": "​",
            "style": "IPY_MODEL_550bd3fa54054c6681a58a75b6b84bb7",
            "value": "Loading checkpoint shards: 100%"
          }
        },
        "06c58c45ffd4416eaf15556c3f9fc7e8": {
          "model_module": "@jupyter-widgets/controls",
          "model_name": "FloatProgressModel",
          "model_module_version": "1.5.0",
          "state": {
            "_dom_classes": [],
            "_model_module": "@jupyter-widgets/controls",
            "_model_module_version": "1.5.0",
            "_model_name": "FloatProgressModel",
            "_view_count": null,
            "_view_module": "@jupyter-widgets/controls",
            "_view_module_version": "1.5.0",
            "_view_name": "ProgressView",
            "bar_style": "success",
            "description": "",
            "description_tooltip": null,
            "layout": "IPY_MODEL_131edf50d5614137b7603b3e7a4a3e9a",
            "max": 2,
            "min": 0,
            "orientation": "horizontal",
            "style": "IPY_MODEL_3d43aada3e8c42d88bee33a982b02bb4",
            "value": 2
          }
        },
        "a75865f091e5464abc8c1ba1c4ab96f5": {
          "model_module": "@jupyter-widgets/controls",
          "model_name": "HTMLModel",
          "model_module_version": "1.5.0",
          "state": {
            "_dom_classes": [],
            "_model_module": "@jupyter-widgets/controls",
            "_model_module_version": "1.5.0",
            "_model_name": "HTMLModel",
            "_view_count": null,
            "_view_module": "@jupyter-widgets/controls",
            "_view_module_version": "1.5.0",
            "_view_name": "HTMLView",
            "description": "",
            "description_tooltip": null,
            "layout": "IPY_MODEL_ce61d3eff34c43c0974bde35c0dabe2e",
            "placeholder": "​",
            "style": "IPY_MODEL_8e8d88a1eeb34a36908bcfcf94acee77",
            "value": " 2/2 [00:51&lt;00:00, 25.18s/it]"
          }
        },
        "da142827d4b0424bbef565d0a9fff31e": {
          "model_module": "@jupyter-widgets/base",
          "model_name": "LayoutModel",
          "model_module_version": "1.2.0",
          "state": {
            "_model_module": "@jupyter-widgets/base",
            "_model_module_version": "1.2.0",
            "_model_name": "LayoutModel",
            "_view_count": null,
            "_view_module": "@jupyter-widgets/base",
            "_view_module_version": "1.2.0",
            "_view_name": "LayoutView",
            "align_content": null,
            "align_items": null,
            "align_self": null,
            "border": null,
            "bottom": null,
            "display": null,
            "flex": null,
            "flex_flow": null,
            "grid_area": null,
            "grid_auto_columns": null,
            "grid_auto_flow": null,
            "grid_auto_rows": null,
            "grid_column": null,
            "grid_gap": null,
            "grid_row": null,
            "grid_template_areas": null,
            "grid_template_columns": null,
            "grid_template_rows": null,
            "height": null,
            "justify_content": null,
            "justify_items": null,
            "left": null,
            "margin": null,
            "max_height": null,
            "max_width": null,
            "min_height": null,
            "min_width": null,
            "object_fit": null,
            "object_position": null,
            "order": null,
            "overflow": null,
            "overflow_x": null,
            "overflow_y": null,
            "padding": null,
            "right": null,
            "top": null,
            "visibility": null,
            "width": null
          }
        },
        "06f5c02b04d44712941d3e47b3d9f1dc": {
          "model_module": "@jupyter-widgets/base",
          "model_name": "LayoutModel",
          "model_module_version": "1.2.0",
          "state": {
            "_model_module": "@jupyter-widgets/base",
            "_model_module_version": "1.2.0",
            "_model_name": "LayoutModel",
            "_view_count": null,
            "_view_module": "@jupyter-widgets/base",
            "_view_module_version": "1.2.0",
            "_view_name": "LayoutView",
            "align_content": null,
            "align_items": null,
            "align_self": null,
            "border": null,
            "bottom": null,
            "display": null,
            "flex": null,
            "flex_flow": null,
            "grid_area": null,
            "grid_auto_columns": null,
            "grid_auto_flow": null,
            "grid_auto_rows": null,
            "grid_column": null,
            "grid_gap": null,
            "grid_row": null,
            "grid_template_areas": null,
            "grid_template_columns": null,
            "grid_template_rows": null,
            "height": null,
            "justify_content": null,
            "justify_items": null,
            "left": null,
            "margin": null,
            "max_height": null,
            "max_width": null,
            "min_height": null,
            "min_width": null,
            "object_fit": null,
            "object_position": null,
            "order": null,
            "overflow": null,
            "overflow_x": null,
            "overflow_y": null,
            "padding": null,
            "right": null,
            "top": null,
            "visibility": null,
            "width": null
          }
        },
        "550bd3fa54054c6681a58a75b6b84bb7": {
          "model_module": "@jupyter-widgets/controls",
          "model_name": "DescriptionStyleModel",
          "model_module_version": "1.5.0",
          "state": {
            "_model_module": "@jupyter-widgets/controls",
            "_model_module_version": "1.5.0",
            "_model_name": "DescriptionStyleModel",
            "_view_count": null,
            "_view_module": "@jupyter-widgets/base",
            "_view_module_version": "1.2.0",
            "_view_name": "StyleView",
            "description_width": ""
          }
        },
        "131edf50d5614137b7603b3e7a4a3e9a": {
          "model_module": "@jupyter-widgets/base",
          "model_name": "LayoutModel",
          "model_module_version": "1.2.0",
          "state": {
            "_model_module": "@jupyter-widgets/base",
            "_model_module_version": "1.2.0",
            "_model_name": "LayoutModel",
            "_view_count": null,
            "_view_module": "@jupyter-widgets/base",
            "_view_module_version": "1.2.0",
            "_view_name": "LayoutView",
            "align_content": null,
            "align_items": null,
            "align_self": null,
            "border": null,
            "bottom": null,
            "display": null,
            "flex": null,
            "flex_flow": null,
            "grid_area": null,
            "grid_auto_columns": null,
            "grid_auto_flow": null,
            "grid_auto_rows": null,
            "grid_column": null,
            "grid_gap": null,
            "grid_row": null,
            "grid_template_areas": null,
            "grid_template_columns": null,
            "grid_template_rows": null,
            "height": null,
            "justify_content": null,
            "justify_items": null,
            "left": null,
            "margin": null,
            "max_height": null,
            "max_width": null,
            "min_height": null,
            "min_width": null,
            "object_fit": null,
            "object_position": null,
            "order": null,
            "overflow": null,
            "overflow_x": null,
            "overflow_y": null,
            "padding": null,
            "right": null,
            "top": null,
            "visibility": null,
            "width": null
          }
        },
        "3d43aada3e8c42d88bee33a982b02bb4": {
          "model_module": "@jupyter-widgets/controls",
          "model_name": "ProgressStyleModel",
          "model_module_version": "1.5.0",
          "state": {
            "_model_module": "@jupyter-widgets/controls",
            "_model_module_version": "1.5.0",
            "_model_name": "ProgressStyleModel",
            "_view_count": null,
            "_view_module": "@jupyter-widgets/base",
            "_view_module_version": "1.2.0",
            "_view_name": "StyleView",
            "bar_color": null,
            "description_width": ""
          }
        },
        "ce61d3eff34c43c0974bde35c0dabe2e": {
          "model_module": "@jupyter-widgets/base",
          "model_name": "LayoutModel",
          "model_module_version": "1.2.0",
          "state": {
            "_model_module": "@jupyter-widgets/base",
            "_model_module_version": "1.2.0",
            "_model_name": "LayoutModel",
            "_view_count": null,
            "_view_module": "@jupyter-widgets/base",
            "_view_module_version": "1.2.0",
            "_view_name": "LayoutView",
            "align_content": null,
            "align_items": null,
            "align_self": null,
            "border": null,
            "bottom": null,
            "display": null,
            "flex": null,
            "flex_flow": null,
            "grid_area": null,
            "grid_auto_columns": null,
            "grid_auto_flow": null,
            "grid_auto_rows": null,
            "grid_column": null,
            "grid_gap": null,
            "grid_row": null,
            "grid_template_areas": null,
            "grid_template_columns": null,
            "grid_template_rows": null,
            "height": null,
            "justify_content": null,
            "justify_items": null,
            "left": null,
            "margin": null,
            "max_height": null,
            "max_width": null,
            "min_height": null,
            "min_width": null,
            "object_fit": null,
            "object_position": null,
            "order": null,
            "overflow": null,
            "overflow_x": null,
            "overflow_y": null,
            "padding": null,
            "right": null,
            "top": null,
            "visibility": null,
            "width": null
          }
        },
        "8e8d88a1eeb34a36908bcfcf94acee77": {
          "model_module": "@jupyter-widgets/controls",
          "model_name": "DescriptionStyleModel",
          "model_module_version": "1.5.0",
          "state": {
            "_model_module": "@jupyter-widgets/controls",
            "_model_module_version": "1.5.0",
            "_model_name": "DescriptionStyleModel",
            "_view_count": null,
            "_view_module": "@jupyter-widgets/base",
            "_view_module_version": "1.2.0",
            "_view_name": "StyleView",
            "description_width": ""
          }
        },
        "c5770a7532d740ceadb2aeca8f102c58": {
          "model_module": "@jupyter-widgets/controls",
          "model_name": "HBoxModel",
          "model_module_version": "1.5.0",
          "state": {
            "_dom_classes": [],
            "_model_module": "@jupyter-widgets/controls",
            "_model_module_version": "1.5.0",
            "_model_name": "HBoxModel",
            "_view_count": null,
            "_view_module": "@jupyter-widgets/controls",
            "_view_module_version": "1.5.0",
            "_view_name": "HBoxView",
            "box_style": "",
            "children": [
              "IPY_MODEL_3b51ff9009d745409d1033387d7ebc51",
              "IPY_MODEL_eb9ad80ce2fc4b7fb4e5f99d1486c4a6",
              "IPY_MODEL_99d58e7980e546539f637582f59bb4a4"
            ],
            "layout": "IPY_MODEL_e5d7fd97096240868b744a003760b1f4"
          }
        },
        "3b51ff9009d745409d1033387d7ebc51": {
          "model_module": "@jupyter-widgets/controls",
          "model_name": "HTMLModel",
          "model_module_version": "1.5.0",
          "state": {
            "_dom_classes": [],
            "_model_module": "@jupyter-widgets/controls",
            "_model_module_version": "1.5.0",
            "_model_name": "HTMLModel",
            "_view_count": null,
            "_view_module": "@jupyter-widgets/controls",
            "_view_module_version": "1.5.0",
            "_view_name": "HTMLView",
            "description": "",
            "description_tooltip": null,
            "layout": "IPY_MODEL_4c24cd6ccaec4a188777b84cb9000c74",
            "placeholder": "​",
            "style": "IPY_MODEL_ca98df8126e34fb7aa5192b9c6b66a41",
            "value": "Loading checkpoint shards:   0%"
          }
        },
        "eb9ad80ce2fc4b7fb4e5f99d1486c4a6": {
          "model_module": "@jupyter-widgets/controls",
          "model_name": "FloatProgressModel",
          "model_module_version": "1.5.0",
          "state": {
            "_dom_classes": [],
            "_model_module": "@jupyter-widgets/controls",
            "_model_module_version": "1.5.0",
            "_model_name": "FloatProgressModel",
            "_view_count": null,
            "_view_module": "@jupyter-widgets/controls",
            "_view_module_version": "1.5.0",
            "_view_name": "ProgressView",
            "bar_style": "",
            "description": "",
            "description_tooltip": null,
            "layout": "IPY_MODEL_dcf4d10b59f1454eb09f1ab6112dd707",
            "max": 2,
            "min": 0,
            "orientation": "horizontal",
            "style": "IPY_MODEL_a6f698e92c3d46478dd34866a3c1af4f",
            "value": 0
          }
        },
        "99d58e7980e546539f637582f59bb4a4": {
          "model_module": "@jupyter-widgets/controls",
          "model_name": "HTMLModel",
          "model_module_version": "1.5.0",
          "state": {
            "_dom_classes": [],
            "_model_module": "@jupyter-widgets/controls",
            "_model_module_version": "1.5.0",
            "_model_name": "HTMLModel",
            "_view_count": null,
            "_view_module": "@jupyter-widgets/controls",
            "_view_module_version": "1.5.0",
            "_view_name": "HTMLView",
            "description": "",
            "description_tooltip": null,
            "layout": "IPY_MODEL_9e93e64572544eeaa0b3e484d8ec945c",
            "placeholder": "​",
            "style": "IPY_MODEL_2a18280cda884573bb22121a03859882",
            "value": " 0/2 [00:00&lt;?, ?it/s]"
          }
        },
        "e5d7fd97096240868b744a003760b1f4": {
          "model_module": "@jupyter-widgets/base",
          "model_name": "LayoutModel",
          "model_module_version": "1.2.0",
          "state": {
            "_model_module": "@jupyter-widgets/base",
            "_model_module_version": "1.2.0",
            "_model_name": "LayoutModel",
            "_view_count": null,
            "_view_module": "@jupyter-widgets/base",
            "_view_module_version": "1.2.0",
            "_view_name": "LayoutView",
            "align_content": null,
            "align_items": null,
            "align_self": null,
            "border": null,
            "bottom": null,
            "display": null,
            "flex": null,
            "flex_flow": null,
            "grid_area": null,
            "grid_auto_columns": null,
            "grid_auto_flow": null,
            "grid_auto_rows": null,
            "grid_column": null,
            "grid_gap": null,
            "grid_row": null,
            "grid_template_areas": null,
            "grid_template_columns": null,
            "grid_template_rows": null,
            "height": null,
            "justify_content": null,
            "justify_items": null,
            "left": null,
            "margin": null,
            "max_height": null,
            "max_width": null,
            "min_height": null,
            "min_width": null,
            "object_fit": null,
            "object_position": null,
            "order": null,
            "overflow": null,
            "overflow_x": null,
            "overflow_y": null,
            "padding": null,
            "right": null,
            "top": null,
            "visibility": null,
            "width": null
          }
        },
        "4c24cd6ccaec4a188777b84cb9000c74": {
          "model_module": "@jupyter-widgets/base",
          "model_name": "LayoutModel",
          "model_module_version": "1.2.0",
          "state": {
            "_model_module": "@jupyter-widgets/base",
            "_model_module_version": "1.2.0",
            "_model_name": "LayoutModel",
            "_view_count": null,
            "_view_module": "@jupyter-widgets/base",
            "_view_module_version": "1.2.0",
            "_view_name": "LayoutView",
            "align_content": null,
            "align_items": null,
            "align_self": null,
            "border": null,
            "bottom": null,
            "display": null,
            "flex": null,
            "flex_flow": null,
            "grid_area": null,
            "grid_auto_columns": null,
            "grid_auto_flow": null,
            "grid_auto_rows": null,
            "grid_column": null,
            "grid_gap": null,
            "grid_row": null,
            "grid_template_areas": null,
            "grid_template_columns": null,
            "grid_template_rows": null,
            "height": null,
            "justify_content": null,
            "justify_items": null,
            "left": null,
            "margin": null,
            "max_height": null,
            "max_width": null,
            "min_height": null,
            "min_width": null,
            "object_fit": null,
            "object_position": null,
            "order": null,
            "overflow": null,
            "overflow_x": null,
            "overflow_y": null,
            "padding": null,
            "right": null,
            "top": null,
            "visibility": null,
            "width": null
          }
        },
        "ca98df8126e34fb7aa5192b9c6b66a41": {
          "model_module": "@jupyter-widgets/controls",
          "model_name": "DescriptionStyleModel",
          "model_module_version": "1.5.0",
          "state": {
            "_model_module": "@jupyter-widgets/controls",
            "_model_module_version": "1.5.0",
            "_model_name": "DescriptionStyleModel",
            "_view_count": null,
            "_view_module": "@jupyter-widgets/base",
            "_view_module_version": "1.2.0",
            "_view_name": "StyleView",
            "description_width": ""
          }
        },
        "dcf4d10b59f1454eb09f1ab6112dd707": {
          "model_module": "@jupyter-widgets/base",
          "model_name": "LayoutModel",
          "model_module_version": "1.2.0",
          "state": {
            "_model_module": "@jupyter-widgets/base",
            "_model_module_version": "1.2.0",
            "_model_name": "LayoutModel",
            "_view_count": null,
            "_view_module": "@jupyter-widgets/base",
            "_view_module_version": "1.2.0",
            "_view_name": "LayoutView",
            "align_content": null,
            "align_items": null,
            "align_self": null,
            "border": null,
            "bottom": null,
            "display": null,
            "flex": null,
            "flex_flow": null,
            "grid_area": null,
            "grid_auto_columns": null,
            "grid_auto_flow": null,
            "grid_auto_rows": null,
            "grid_column": null,
            "grid_gap": null,
            "grid_row": null,
            "grid_template_areas": null,
            "grid_template_columns": null,
            "grid_template_rows": null,
            "height": null,
            "justify_content": null,
            "justify_items": null,
            "left": null,
            "margin": null,
            "max_height": null,
            "max_width": null,
            "min_height": null,
            "min_width": null,
            "object_fit": null,
            "object_position": null,
            "order": null,
            "overflow": null,
            "overflow_x": null,
            "overflow_y": null,
            "padding": null,
            "right": null,
            "top": null,
            "visibility": null,
            "width": null
          }
        },
        "a6f698e92c3d46478dd34866a3c1af4f": {
          "model_module": "@jupyter-widgets/controls",
          "model_name": "ProgressStyleModel",
          "model_module_version": "1.5.0",
          "state": {
            "_model_module": "@jupyter-widgets/controls",
            "_model_module_version": "1.5.0",
            "_model_name": "ProgressStyleModel",
            "_view_count": null,
            "_view_module": "@jupyter-widgets/base",
            "_view_module_version": "1.2.0",
            "_view_name": "StyleView",
            "bar_color": null,
            "description_width": ""
          }
        },
        "9e93e64572544eeaa0b3e484d8ec945c": {
          "model_module": "@jupyter-widgets/base",
          "model_name": "LayoutModel",
          "model_module_version": "1.2.0",
          "state": {
            "_model_module": "@jupyter-widgets/base",
            "_model_module_version": "1.2.0",
            "_model_name": "LayoutModel",
            "_view_count": null,
            "_view_module": "@jupyter-widgets/base",
            "_view_module_version": "1.2.0",
            "_view_name": "LayoutView",
            "align_content": null,
            "align_items": null,
            "align_self": null,
            "border": null,
            "bottom": null,
            "display": null,
            "flex": null,
            "flex_flow": null,
            "grid_area": null,
            "grid_auto_columns": null,
            "grid_auto_flow": null,
            "grid_auto_rows": null,
            "grid_column": null,
            "grid_gap": null,
            "grid_row": null,
            "grid_template_areas": null,
            "grid_template_columns": null,
            "grid_template_rows": null,
            "height": null,
            "justify_content": null,
            "justify_items": null,
            "left": null,
            "margin": null,
            "max_height": null,
            "max_width": null,
            "min_height": null,
            "min_width": null,
            "object_fit": null,
            "object_position": null,
            "order": null,
            "overflow": null,
            "overflow_x": null,
            "overflow_y": null,
            "padding": null,
            "right": null,
            "top": null,
            "visibility": null,
            "width": null
          }
        },
        "2a18280cda884573bb22121a03859882": {
          "model_module": "@jupyter-widgets/controls",
          "model_name": "DescriptionStyleModel",
          "model_module_version": "1.5.0",
          "state": {
            "_model_module": "@jupyter-widgets/controls",
            "_model_module_version": "1.5.0",
            "_model_name": "DescriptionStyleModel",
            "_view_count": null,
            "_view_module": "@jupyter-widgets/base",
            "_view_module_version": "1.2.0",
            "_view_name": "StyleView",
            "description_width": ""
          }
        }
      }
    }
  },
  "cells": [
    {
      "cell_type": "markdown",
      "source": [
        "## Local"
      ],
      "metadata": {
        "id": "xOVZHtH97M2B"
      }
    },
    {
      "cell_type": "code",
      "source": [
        "from huggingface_hub import list_models\n",
        "\n",
        "def get_models_by_multi_filters():\n",
        "    models = list(list_models(\n",
        "        task=\"image-classification\",\n",
        "        library=\"pytorch\",\n",
        "        trained_dataset=\"imagenet\",\n",
        "    ))\n",
        "    if models:\n",
        "        for model in models[0:10]:\n",
        "            print(f\"- {model.modelId}\")\n",
        "\n",
        "def get_qwen_models(search_string):\n",
        "    # Search for Qwen models\n",
        "    qwen_models = list(list_models(filter=search_string)) # list() to convert generator to list\n",
        "    if qwen_models:\n",
        "        print(f\"Found {len(qwen_models)} models (may be paginated):\")\n",
        "        # Print some information about the the first 10 models\n",
        "        for model in qwen_models[:10]: # Print first 10\n",
        "            print(f\"- {model.modelId}\")  # Access attributes of the model objects\n",
        "\n",
        "def get_gpt2_models():\n",
        "    # Filter by model task category\n",
        "    gpt_models = list(list_models(task=\"gpt2\"))\n",
        "    if gpt_models:\n",
        "        print(f\"Found {len(gpt_models)} GPT models. Printing First 10:\")\n",
        "        for model in gpt_models[0:10]:\n",
        "            print(f\"- {model.modelId}\")\n",
        "    else:\n",
        "        print(\"No GPT models found.\")\n",
        "\n",
        "def get_top_10_models():\n",
        "    top_10_models = list(list_models(sort=\"downloads\", direction=-1, limit=10))\n",
        "    if top_10_models:\n",
        "        for model in top_10_models[1:10]:\n",
        "            print(f\"- {model.modelId}   {model.created_at}   {model.downloads}   {model.pipeline_tag}\")\n",
        "\n"
      ],
      "metadata": {
        "id": "cVqBgKLO7YU2"
      },
      "execution_count": null,
      "outputs": []
    },
    {
      "cell_type": "code",
      "source": [
        "\"\"\"\n",
        "Application to provide benchmark timers for code.\n",
        "Usage:\n",
        "# from my_timer_class import MyTimer\n",
        "from my_timer_func import my_timer\n",
        "import time\n",
        "\n",
        "@MyTimer3(name=\"decorator\")\n",
        "@my_timer\n",
        "\"\"\"\n",
        "\n",
        "import functools\n",
        "import time\n",
        "\n",
        "def my_timer(orig_func):\n",
        "    import time\n",
        "    @functools.wraps(orig_func)\n",
        "    def wrapper_timer(*args, **kwargs):\n",
        "        tic = time.perf_counter()\n",
        "        value = orig_func(*args, **kwargs)\n",
        "        toc = time.perf_counter()\n",
        "        elapsed_time = toc - tic\n",
        "        print(f\"Elapsed time to run {orig_func.__name__}: {elapsed_time:0.4f} seconds\")\n",
        "        return value\n",
        "    return wrapper_timer\n",
        "\n",
        "\n",
        "class MyTimer():\n",
        "    # usage:\n",
        "    #\n",
        "    # from MyTimer import MyTimer\n",
        "    # with MyTimer():\n",
        "    #    func(x,y)\n",
        "\n",
        "    def __init__(self):\n",
        "        self.start = time.time()\n",
        "        self.start_p = time.perf_counter()\n",
        "\n",
        "    def __enter__(self):\n",
        "        return self\n",
        "\n",
        "    def __exit__(self, *args, **kwargs):\n",
        "        end = time.time()\n",
        "        end_p = time.perf_counter()\n",
        "        runtime = end - self.start\n",
        "        runtime_p = end_p - self.start_p\n",
        "        msg = 'The function took {time} seconds to complete'\n",
        "        print(msg.format(time=runtime))\n",
        "        msg_p = 'The function took {time} perf seconds to complete'\n",
        "        print(msg_p.format(time=runtime_p))"
      ],
      "metadata": {
        "id": "YlKFbfNm7jMa"
      },
      "execution_count": null,
      "outputs": []
    },
    {
      "cell_type": "code",
      "source": [
        "!pip install qwen_vl_utils"
      ],
      "metadata": {
        "id": "8J8yFrXq7w6w"
      },
      "execution_count": null,
      "outputs": []
    },
    {
      "cell_type": "code",
      "source": [
        "import huggingface_hub\n",
        "from transformers import Qwen2_5_VLForConditionalGeneration, AutoTokenizer, AutoProcessor\n",
        "from qwen_vl_utils import process_vision_info"
      ],
      "metadata": {
        "id": "KnyvA7bq2n8z"
      },
      "execution_count": null,
      "outputs": []
    },
    {
      "cell_type": "code",
      "source": [
        "get_qwen_models(\"Qwen\")\n"
      ],
      "metadata": {
        "colab": {
          "base_uri": "https://localhost:8080/"
        },
        "id": "lM25rTGC2n6u",
        "outputId": "3ee4eb2a-fbc4-483a-c6df-cf8e5bb963ed"
      },
      "execution_count": null,
      "outputs": [
        {
          "output_type": "stream",
          "name": "stdout",
          "text": [
            "Found 187 models (may be paginated):\n",
            "- ystemsrx/Qwen2-Boundless\n",
            "- DavidAU/AI_Autocorrect__Auto-Creative-Enhancement__Auto-Low-Quant-Optimization__gguf-exl2-hqq-SOFTWARE\n",
            "- anemll/anemll-Qwen3-4B-ctx1024_0.3.0\n",
            "- A2H0H0R1/Qwen-7B-Chat-Int4-Qlora-biology\n",
            "- Existance/Qwen1-5-4B-Chat-hindi-sft-v2\n",
            "- Alibaba-NLP/gte-Qwen1.5-7B-instruct\n",
            "- MoMonir/gte-Qwen1.5-7B-instruct-GGUF\n",
            "- agier9/gte-Qwen1.5-7B-instruct-Q5_K_M-GGUF\n",
            "- SandLogicTechnologies/Nxcode-CQ-7B-orpo-GGUF\n",
            "- Sri-Vigneshwar-DJ/hawky-ai-Qwen2-Math-72B-Instruct-GGUF\n"
          ]
        }
      ]
    },
    {
      "cell_type": "code",
      "source": [
        "model = Qwen2_5_VLForConditionalGeneration.from_pretrained(\n",
        "    # \"Qwen/Qwen2.5-VL-3B-Instruct\", torch_dtype=\"auto\", device_map=\"auto\"\n",
        "    # \"Qwen/Qwen2.5-VL-3B-Instruct\", torch_dtype=\"auto\", device_map=\"cpu\"\n",
        "    \"Qwen/Qwen2.5-VL-3B-Instruct\", torch_dtype=\"auto\", device_map=\"cuda\"\n",
        ")"
      ],
      "metadata": {
        "colab": {
          "base_uri": "https://localhost:8080/",
          "height": 49,
          "referenced_widgets": [
            "a33ab42d34024470900d34cf67bddd4a",
            "ab8771997dd842e4b5ca37dc92e53b91",
            "06c58c45ffd4416eaf15556c3f9fc7e8",
            "a75865f091e5464abc8c1ba1c4ab96f5",
            "da142827d4b0424bbef565d0a9fff31e",
            "06f5c02b04d44712941d3e47b3d9f1dc",
            "550bd3fa54054c6681a58a75b6b84bb7",
            "131edf50d5614137b7603b3e7a4a3e9a",
            "3d43aada3e8c42d88bee33a982b02bb4",
            "ce61d3eff34c43c0974bde35c0dabe2e",
            "8e8d88a1eeb34a36908bcfcf94acee77"
          ]
        },
        "id": "kaS3Nc5O8Ggz",
        "outputId": "5148add0-d8db-4ce6-fca7-78084a78bc87"
      },
      "execution_count": null,
      "outputs": [
        {
          "output_type": "display_data",
          "data": {
            "text/plain": [
              "Loading checkpoint shards:   0%|          | 0/2 [00:00<?, ?it/s]"
            ],
            "application/vnd.jupyter.widget-view+json": {
              "version_major": 2,
              "version_minor": 0,
              "model_id": "a33ab42d34024470900d34cf67bddd4a"
            }
          },
          "metadata": {}
        }
      ]
    },
    {
      "cell_type": "code",
      "source": [
        "processor = AutoProcessor.from_pretrained(\"Qwen/Qwen2.5-VL-3B-Instruct\")\n"
      ],
      "metadata": {
        "colab": {
          "base_uri": "https://localhost:8080/"
        },
        "id": "N87A8Krc8O_c",
        "outputId": "1d668bb0-0ab4-4059-8a61-261ca52c401e"
      },
      "execution_count": null,
      "outputs": [
        {
          "output_type": "stream",
          "name": "stderr",
          "text": [
            "Using a slow image processor as `use_fast` is unset and a slow processor was saved with this model. `use_fast=True` will be the default behavior in v4.52, even if the model was saved with a slow processor. This will result in minor differences in outputs. You'll still be able to use a slow processor with `use_fast=False`.\n",
            "You have video processor config saved in `preprocessor.json` file which is deprecated. Video processor configs should be saved in their own `video_preprocessor.json` file. You can rename the file or load and save the processor back which renames it automatically. Loading from `preprocessor.json` will be removed in v5.0.\n"
          ]
        }
      ]
    },
    {
      "cell_type": "code",
      "source": [
        "# larger_model = Qwen2_5_VLForConditionalGeneration.from_pretrained(\n",
        "#     # \"Qwen/Qwen2.5-VL-3B-Instruct\", torch_dtype=\"auto\", device_map=\"auto\"\n",
        "#     # \"Qwen/Qwen2.5-VL-3B-Instruct\", torch_dtype=\"auto\", device_map=\"cpu\"\n",
        "#     \"Qwen/Qwen2.5-VL-7B-Instruct\", torch_dtype=\"auto\", device_map=\"cuda\"\n",
        "# )"
      ],
      "metadata": {
        "id": "ouNX1XMtPsrQ"
      },
      "execution_count": null,
      "outputs": []
    },
    {
      "cell_type": "markdown",
      "source": [
        "### Bank Statement"
      ],
      "metadata": {
        "id": "UGvUYwnQZxMa"
      }
    },
    {
      "cell_type": "code",
      "source": [
        "# image = r\"..\\images\\dl1.jpg\"\n",
        "# prompt = \"Extract all text found on the image, including handwritten signatures\"\n",
        "\n",
        "# image = r\"/content/UAE_id.jpg\"\n",
        "image = r\"/content/BankStatement2.jpeg\"\n",
        "prompt = \"\"\"\n",
        "You are a financial data extraction agent.\n",
        "\n",
        "Your task is to:\n",
        "\n",
        "1. Extract **all transactions** from the provided bank statement image.\n",
        "2. Return the data in **valid, minified JSON format** with the following structure:\n",
        "\n",
        "{\n",
        "  \"account_details\": {\n",
        "    \"account_holder_name\": \"\",\n",
        "    \"account_number\": \"\",\n",
        "    \"iban_number\": \"\",\n",
        "    \"currency\": \"\",\n",
        "    \"account_type\": \"\",\n",
        "    \"branch\": \"\",\n",
        "    \"statement_period_from\": \"\",\n",
        "    \"statement_period_to\": \"\"\n",
        "  },\n",
        "  \"transactions\": [\n",
        "    {\n",
        "      \"transaction_date\": \"\",\n",
        "      \"value_date\": \"\",\n",
        "      \"cheque_ref_no\": \"\",\n",
        "      \"description\": \"\",\n",
        "      \"debit\": \"\",\n",
        "      \"credit\": \"\",\n",
        "      \"balance\": \"\"\n",
        "    }\n",
        "    // Continue for all transactions listed\n",
        "  ],\n",
        "  \"notes\": \"\"\n",
        "}\n",
        "\n",
        "3. For empty or missing fields, return an empty string (\"\").\n",
        "\n",
        "4. Do NOT include any explanations or extra text. Only output a **valid JSON object**.\n",
        "\n",
        "Ensure that:\n",
        "- Dates are in YYYY-MM-DD format if possible.\n",
        "- Debit, credit, and balance amounts are parsed as strings exactly as shown.\n",
        "- Include any footnotes or important notes under the “notes” field.\n",
        "\n",
        "Begin your extraction now.\n",
        "\"\"\"\n",
        "\n",
        "\n",
        "# image = r\"..\\images\\WalmartReceipt.png\"\n",
        "# prompt = \"What is the account number shown on this image?\""
      ],
      "metadata": {
        "id": "mYxL2PWZ8T2X"
      },
      "execution_count": null,
      "outputs": []
    },
    {
      "cell_type": "markdown",
      "source": [
        "### ID"
      ],
      "metadata": {
        "id": "puAagvpGZ_qh"
      }
    },
    {
      "cell_type": "code",
      "source": [
        "image = r\"/content/UAE_id.jpg\"\n",
        "\n",
        "prompt = \"\"\"\n",
        "You are an identity card data extraction agent.\n",
        "\n",
        "Your task is to:\n",
        "\n",
        "1. Extract **all key details** from the provided UAE Identity Card image.\n",
        "2. Return the data in **valid, minified JSON format** with the following structure:\n",
        "\n",
        "{\n",
        "  \"id_number\": \"\",\n",
        "  \"full_name_english\": \"\",\n",
        "  \"full_name_arabic\": \"\",\n",
        "  \"nationality_english\": \"\",\n",
        "  \"nationality_arabic\": \"\",\n",
        "  \"gender\": \"\",\n",
        "  \"date_of_birth\": \"\",\n",
        "  \"expiry_date\": \"\",\n",
        "  \"additional_notes\": \"\"\n",
        "}\n",
        "\n",
        "3. For empty or missing fields, return an empty string (\"\").\n",
        "\n",
        "4. Do NOT include any explanations or extra text. Only output a **valid JSON object**.\n",
        "\n",
        "Ensure that:\n",
        "- Dates are in YYYY-MM-DD format if possible.\n",
        "- Both English and Arabic fields are captured accurately.\n",
        "- Any additional information such as profession, place of issue, or notes is included under “additional_notes”.\n",
        "\n",
        "Begin your extraction now.\n",
        "\"\"\"\n"
      ],
      "metadata": {
        "id": "fdNgjGnIaAk_"
      },
      "execution_count": null,
      "outputs": []
    },
    {
      "cell_type": "markdown",
      "source": [
        "### Passport"
      ],
      "metadata": {
        "id": "DjMfb59iebHm"
      }
    },
    {
      "cell_type": "code",
      "source": [
        "image = r\"/content/Passport.png\"\n",
        "\n",
        "prompt = \"\"\"\n",
        "You are a passport data extraction agent.\n",
        "\n",
        "Your task is to:\n",
        "\n",
        "1. Extract **all key details** from the provided Egyptian passport image.\n",
        "2. Return the data in **valid, minified JSON format** with the following structure:\n",
        "\n",
        "{\n",
        "  \"passport_number\": \"\",\n",
        "  \"full_name_english\": \"\",\n",
        "  \"full_name_arabic\": \"\",\n",
        "  \"date_of_birth\": \"\",\n",
        "  \"place_of_birth\": \"\",\n",
        "  \"nationality\": \"\",\n",
        "  \"sex\": \"\",\n",
        "  \"date_of_issue\": \"\",\n",
        "  \"date_of_expiry\": \"\",\n",
        "  \"issuing_office\": \"\",\n",
        "  \"profession\": \"\",\n",
        "  \"mrz\": \"\",\n",
        "  \"additional_notes\": \"\"\n",
        "}\n",
        "\n",
        "3. For empty or missing fields, return an empty string (\"\").\n",
        "\n",
        "4. Do NOT include any explanations or extra text. Only output a **valid JSON object**.\n",
        "\n",
        "Ensure that:\n",
        "- Dates are in YYYY-MM-DD format if possible.\n",
        "- Both English and Arabic names are captured accurately.\n",
        "- MRZ (Machine Readable Zone) is extracted as a single string under “mrz”.\n",
        "- Any additional information is included under “additional_notes”.\n",
        "\n",
        "Begin your extraction now.\n",
        "\"\"\"\n"
      ],
      "metadata": {
        "id": "muE5ldDvedhc"
      },
      "execution_count": null,
      "outputs": []
    },
    {
      "cell_type": "code",
      "source": [
        "image = r\"/content/Passport.png\"\n",
        "\n",
        "prompt = \"\"\"\n",
        "You are a passport data extraction agent.\n",
        "\n",
        "Your task is to:\n",
        "\n",
        "1. Extract **all key details** from the provided Egyptian passport image in **both English and Arabic**.\n",
        "2. Return the data in **valid, minified JSON format** with the following structure:\n",
        "\n",
        "{\n",
        "  \"passport_number\": \"\",\n",
        "  \"full_name_english\": \"\",\n",
        "  \"full_name_arabic\": \"\",\n",
        "  \"date_of_birth_english\": \"\",\n",
        "  \"date_of_birth_arabic\": \"\",\n",
        "  \"place_of_birth_english\": \"\",\n",
        "  \"place_of_birth_arabic\": \"\",\n",
        "  \"nationality_english\": \"\",\n",
        "  \"nationality_arabic\": \"\",\n",
        "  \"sex_english\": \"\",\n",
        "  \"sex_arabic\": \"\",\n",
        "  \"date_of_issue_english\": \"\",\n",
        "  \"date_of_issue_arabic\": \"\",\n",
        "  \"date_of_expiry_english\": \"\",\n",
        "  \"date_of_expiry_arabic\": \"\",\n",
        "  \"issuing_office\": \"\",\n",
        "  \"profession_english\": \"\",\n",
        "  \"profession_arabic\": \"\",\n",
        "  \"mrz\": \"\",\n",
        "  \"additional_notes\": \"\"\n",
        "}\n",
        "\n",
        "3. For empty or missing fields, return an empty string (\"\").\n",
        "\n",
        "4. Do NOT include any explanations or extra text. Only output a **valid JSON object**.\n",
        "\n",
        "Ensure that:\n",
        "- Dates are in YYYY-MM-DD format if possible.\n",
        "- Arabic and English fields are mapped clearly as shown.\n",
        "- MRZ (Machine Readable Zone) is extracted fully under “mrz”.\n",
        "- Any additional information is included under “additional_notes”.\n",
        "\n",
        "Begin your extraction now.\n",
        "\"\"\"\n"
      ],
      "metadata": {
        "id": "00tswez6fH5j"
      },
      "execution_count": null,
      "outputs": []
    },
    {
      "cell_type": "markdown",
      "source": [
        "### Bill"
      ],
      "metadata": {
        "id": "5rPh_sC-amuX"
      }
    },
    {
      "cell_type": "code",
      "source": [
        "image = r\"/content/bill1.png\"\n",
        "\n",
        "prompt = \"\"\"\n",
        "You are an invoice data extraction agent.\n",
        "\n",
        "Your task is to:\n",
        "\n",
        "1. Extract **all key details** from the provided invoice image.\n",
        "2. Return the data in **valid, minified JSON format** with the following structure:\n",
        "\n",
        "{\n",
        "  \"invoice_number\": \"\",\n",
        "  \"purchase_order_number\": \"\",\n",
        "  \"date\": \"\",\n",
        "  \"due_date\": \"\",\n",
        "  \"bill_by\": {\n",
        "    \"name\": \"\",\n",
        "    \"customer_address\": \"\"\n",
        "  },\n",
        "  \"company\": {\n",
        "    \"name\": \"\",\n",
        "    \"address\": \"\",\n",
        "    \"email\": \"\"\n",
        "  },\n",
        "  \"items\": [\n",
        "    {\n",
        "      \"description\": \"\",\n",
        "      \"quantity\": \"\",\n",
        "      \"unit_price\": \"\",\n",
        "      \"total_price\": \"\"\n",
        "    }\n",
        "    // Continue for all line items\n",
        "  ],\n",
        "  \"subtotal\": \"\",\n",
        "  \"tax\": \"\",\n",
        "  \"total\": \"\"\n",
        "}\n",
        "\n",
        "3. For empty or missing fields, return an empty string (\"\").\n",
        "\n",
        "4. Do NOT include any explanations or extra text. Only output a **valid JSON object**.\n",
        "\n",
        "Ensure that:\n",
        "- All monetary values include currency symbols as shown.\n",
        "- The items table is extracted with accurate columns.\n",
        "- Customer address, company address, and emails are captured fully.\n",
        "\n",
        "Begin your extraction now.\n",
        "\"\"\"\n"
      ],
      "metadata": {
        "id": "_nHcW_qUaoFn"
      },
      "execution_count": null,
      "outputs": []
    },
    {
      "cell_type": "code",
      "source": [
        "from PIL import Image\n",
        "\n",
        "def resize_image(image_path, max_dim=768):\n",
        "    img = Image.open(image_path)\n",
        "    img.thumbnail((max_dim, max_dim), Image.LANCZOS)\n",
        "    img.save(image_path)  # overwrite or save to new file if you want to keep original\n",
        "    return img\n",
        "\n",
        "# Example usage:\n",
        "image = resize_image(image)\n",
        "print(image.size)\n"
      ],
      "metadata": {
        "colab": {
          "base_uri": "https://localhost:8080/"
        },
        "id": "IMSHEH1kETsc",
        "outputId": "eb0cf6a2-865e-411d-ba19-55657593b778"
      },
      "execution_count": null,
      "outputs": [
        {
          "output_type": "stream",
          "name": "stdout",
          "text": [
            "(768, 548)\n"
          ]
        }
      ]
    },
    {
      "cell_type": "code",
      "source": [
        "messages = [\n",
        "{\n",
        "    \"role\": \"user\",\n",
        "    \"content\": [\n",
        "        {\n",
        "            \"type\": \"image\",\n",
        "            \"image\": image,\n",
        "        },\n",
        "        {\"type\": \"text\", \"text\": prompt},\n",
        "    ],\n",
        "}\n",
        "]"
      ],
      "metadata": {
        "id": "blS94rXU8gJd"
      },
      "execution_count": null,
      "outputs": []
    },
    {
      "cell_type": "code",
      "source": [
        "# Preparation for inference\n",
        "text = processor.apply_chat_template(\n",
        "    messages, tokenize=False, add_generation_prompt=True\n",
        ")"
      ],
      "metadata": {
        "id": "2zk9zAMS8ofj"
      },
      "execution_count": null,
      "outputs": []
    },
    {
      "cell_type": "code",
      "source": [
        "image_inputs, video_inputs = process_vision_info(messages)\n"
      ],
      "metadata": {
        "id": "qECMv7eM8qZR"
      },
      "execution_count": null,
      "outputs": []
    },
    {
      "cell_type": "code",
      "source": [
        "image_inputs"
      ],
      "metadata": {
        "colab": {
          "base_uri": "https://localhost:8080/"
        },
        "id": "JyYlHXJ1EG1o",
        "outputId": "041726d8-4ca8-424d-b997-8997e868a755"
      },
      "execution_count": null,
      "outputs": [
        {
          "output_type": "execute_result",
          "data": {
            "text/plain": [
              "[<PIL.Image.Image image mode=RGB size=756x560>]"
            ]
          },
          "metadata": {},
          "execution_count": 54
        }
      ]
    },
    {
      "cell_type": "code",
      "source": [
        "inputs = processor(\n",
        "    text=[text],\n",
        "    images=image_inputs,\n",
        "    videos=video_inputs,\n",
        "    padding=True,\n",
        "    return_tensors=\"pt\",\n",
        ")"
      ],
      "metadata": {
        "id": "bGemE7Hh8zlG"
      },
      "execution_count": null,
      "outputs": []
    },
    {
      "cell_type": "code",
      "source": [
        "import torch, gc\n",
        "gc.collect()\n",
        "torch.cuda.empty_cache()\n"
      ],
      "metadata": {
        "id": "ifiCD3i0C096"
      },
      "execution_count": null,
      "outputs": []
    },
    {
      "cell_type": "code",
      "source": [
        "inputs = inputs.to(\"cuda\")\n",
        "\n",
        "# new!!\n",
        "model = model.to(\"cuda\")"
      ],
      "metadata": {
        "id": "cdNYYNid80xn"
      },
      "execution_count": null,
      "outputs": []
    },
    {
      "cell_type": "code",
      "source": [
        "# generated_ids = model.generate(**inputs, max_new_tokens=128)\n",
        "generated_ids = model.generate(**inputs, max_new_tokens=1024)\n",
        "# generated_ids = model.generate(**inputs, max_new_tokens=2048)\n",
        "\n",
        "# generated_ids = model.generate(**inputs, max_new_tokens=256)"
      ],
      "metadata": {
        "id": "g_tgmLdO9HWA"
      },
      "execution_count": null,
      "outputs": []
    },
    {
      "cell_type": "code",
      "source": [
        "generated_ids_trimmed = [\n",
        "    out_ids[len(in_ids) :] for in_ids, out_ids in zip(inputs.input_ids, generated_ids)\n",
        "]"
      ],
      "metadata": {
        "id": "1-wLWdIz9Sa7"
      },
      "execution_count": null,
      "outputs": []
    },
    {
      "cell_type": "code",
      "source": [
        "output_text = processor.batch_decode(\n",
        "    generated_ids_trimmed, skip_special_tokens=True, clean_up_tokenization_spaces=False\n",
        ")"
      ],
      "metadata": {
        "id": "0GzFIZ-Q9XOY"
      },
      "execution_count": null,
      "outputs": []
    },
    {
      "cell_type": "code",
      "source": [
        "output_text"
      ],
      "metadata": {
        "colab": {
          "base_uri": "https://localhost:8080/"
        },
        "id": "PvRiwzN9aQaH",
        "outputId": "78593bd3-bf7e-4b19-9eef-be349f14d632"
      },
      "execution_count": null,
      "outputs": [
        {
          "output_type": "execute_result",
          "data": {
            "text/plain": [
              "['```json\\n{\\n  \"passport_number\": \"A37365438\",\\n  \"full_name_english\": \"YOUSSEF MAHMOUD MOHAMED MAHMOUD ABDALLA\",\\n  \"full_name_arabic\": \"يوسف محمود محمد عد الله\",\\n  \"date_of_birth_english\": \"18/09/2001\",\\n  \"date_of_birth_arabic\": \"٢٠١١/٩/١٨\",\\n  \"place_of_birth_english\": \"ALEXANDRIA\",\\n  \"place_of_birth_arabic\": \"الأسكندرية\",\\n  \"nationality_english\": \"EGYPTIAN\",\\n  \"nationality_arabic\": \"مصر\",\\n  \"sex_english\": \"M\",\\n  \"sex_arabic\": \"ذكر\",\\n  \"date_of_issue_english\": \"16/04/2024\",\\n  \"date_of_issue_arabic\": \"٢٠٢٤/٤/١٦\",\\n  \"date_of_expiry_english\": \"15/04/2031\",\\n  \"date_of_expiry_arabic\": \"٢٠٣١/٤/١٥\",\\n  \"issuing_office\": \"جهاة إدار الجواز\",\\n  \"profession_english\": \"STUDENT\",\\n  \"profession_arabic\": \"طالب كلية هندسة ج طوم وتكنولوجيا\",\\n  \"mrz\": \"P<EGYABDALLA<<YOUSSEF<MAHMOUD<MOHAMED<MAHMOU A373654385EGY0109187M3104150<<<<<<<<<<<<<<02\",\\n  \"additional_notes\": \"\"\\n}\\n```']"
            ]
          },
          "metadata": {},
          "execution_count": 61
        }
      ]
    },
    {
      "cell_type": "code",
      "source": [
        "import json\n",
        "import re\n",
        "from IPython.display import JSON as ColabJSON\n",
        "\n",
        "def display_clean_json(model_output):\n",
        "    \"\"\"\n",
        "    Cleans LLM JSON outputs with markdown fences and displays them nicely.\n",
        "    \"\"\"\n",
        "    if isinstance(model_output, list):\n",
        "        model_output = model_output[0]\n",
        "\n",
        "    # Remove ```json fences\n",
        "    model_output = re.sub(r'^```json\\\\n?', '', model_output).strip()\n",
        "    model_output = re.sub(r'```$', '', model_output).strip()\n",
        "\n",
        "    # Parse JSON\n",
        "    try:\n",
        "        parsed = json.loads(model_output)\n",
        "    except json.JSONDecodeError as e:\n",
        "        print(\"❌ JSON parsing failed:\", e)\n",
        "        print(\"🔎 Raw output:\", model_output)\n",
        "        return None\n",
        "\n",
        "    # Display nicely in Colab, fallback to print\n",
        "    try:\n",
        "        return ColabJSON(parsed)\n",
        "    except:\n",
        "        print(json.dumps(parsed, indent=2, ensure_ascii=False))\n",
        "        return parsed\n",
        "\n",
        "# Example usage\n",
        "parsed_json = display_clean_json(output_text)\n"
      ],
      "metadata": {
        "colab": {
          "base_uri": "https://localhost:8080/"
        },
        "id": "1YaulMgBaZRO",
        "outputId": "aa4adb9d-da3f-4b97-a559-f480869fc404"
      },
      "execution_count": null,
      "outputs": [
        {
          "output_type": "stream",
          "name": "stdout",
          "text": [
            "❌ JSON parsing failed: Expecting value: line 1 column 1 (char 0)\n",
            "🔎 Raw output: ```json\n",
            "{\n",
            "  \"passport_number\": \"A37365438\",\n",
            "  \"full_name_english\": \"YOUSSEF MAHMOUD MOHAMED MAHMOUD ABDALLA\",\n",
            "  \"full_name_arabic\": \"يوسف محمود محمد عد الله\",\n",
            "  \"date_of_birth_english\": \"18/09/2001\",\n",
            "  \"date_of_birth_arabic\": \"٢٠١١/٩/١٨\",\n",
            "  \"place_of_birth_english\": \"ALEXANDRIA\",\n",
            "  \"place_of_birth_arabic\": \"الأسكندرية\",\n",
            "  \"nationality_english\": \"EGYPTIAN\",\n",
            "  \"nationality_arabic\": \"مصر\",\n",
            "  \"sex_english\": \"M\",\n",
            "  \"sex_arabic\": \"ذكر\",\n",
            "  \"date_of_issue_english\": \"16/04/2024\",\n",
            "  \"date_of_issue_arabic\": \"٢٠٢٤/٤/١٦\",\n",
            "  \"date_of_expiry_english\": \"15/04/2031\",\n",
            "  \"date_of_expiry_arabic\": \"٢٠٣١/٤/١٥\",\n",
            "  \"issuing_office\": \"جهاة إدار الجواز\",\n",
            "  \"profession_english\": \"STUDENT\",\n",
            "  \"profession_arabic\": \"طالب كلية هندسة ج طوم وتكنولوجيا\",\n",
            "  \"mrz\": \"P<EGYABDALLA<<YOUSSEF<MAHMOUD<MOHAMED<MAHMOU A373654385EGY0109187M3104150<<<<<<<<<<<<<<02\",\n",
            "  \"additional_notes\": \"\"\n",
            "}\n"
          ]
        }
      ]
    },
    {
      "cell_type": "code",
      "source": [
        "import json\n",
        "import re\n",
        "from IPython.display import JSON as ColabJSON\n",
        "\n",
        "def display_parsed_json(model_output):\n",
        "    \"\"\"\n",
        "    Clean model output, parse as JSON, and display nicely.\n",
        "    Works in Colab (interactive) and VS Code (pretty print).\n",
        "    \"\"\"\n",
        "    # Extract string from list if needed\n",
        "    if isinstance(model_output, list):\n",
        "        model_output = model_output[0]\n",
        "\n",
        "    # Remove markdown fences\n",
        "    model_output = re.sub(r'^```json\\\\n?', '', model_output).strip()\n",
        "    model_output = re.sub(r'```$', '', model_output).strip()\n",
        "\n",
        "    try:\n",
        "        parsed = json.loads(model_output)\n",
        "    except json.JSONDecodeError as e:\n",
        "        print(f\"JSON parsing failed: {e}\")\n",
        "        print(\"Raw output:\", model_output)\n",
        "        return None\n",
        "\n",
        "    # Display interactively if in Colab\n",
        "    try:\n",
        "        return ColabJSON(parsed)\n",
        "    except:\n",
        "        # Pretty print fallback\n",
        "        print(json.dumps(parsed, indent=2))\n",
        "        return parsed\n",
        "\n",
        "# Example usage with your variable\n",
        "parsed_json = display_parsed_json(output_text)\n"
      ],
      "metadata": {
        "colab": {
          "base_uri": "https://localhost:8080/"
        },
        "id": "2X6WCgMTLmCo",
        "outputId": "16993668-face-4b59-fff8-e8151192e816"
      },
      "execution_count": null,
      "outputs": [
        {
          "output_type": "stream",
          "name": "stdout",
          "text": [
            "JSON parsing failed: Expecting value: line 1 column 1 (char 0)\n",
            "Raw output: ```json\n",
            "{\n",
            "  \"account_details\": {\n",
            "    \"account_holder_name\": \"NASEER AHMAD\",\n",
            "    \"account_number\": \"65574\",\n",
            "    \"iban_number\": \"AE84 0240 0299 2004 6395 901\",\n",
            "    \"currency\": \"AED\",\n",
            "    \"account_type\": \"CURRENT ACCOUNT\",\n",
            "    \"branch\": \"DUBAI WATERFRONT MARKET BRANCH\",\n",
            "    \"statement_period_from\": \"24/01/2021\",\n",
            "    \"statement_period_to\": \"24/01/2022\"\n",
            "  },\n",
            "  \"transactions\": [\n",
            "    {\n",
            "      \"transaction_date\": \"01/10/2021\",\n",
            "      \"value_date\": \"01/10/2021\",\n",
            "      \"cheque_ref_no\": \"029885F212741037\",\n",
            "      \"description\": \"SMS CHARGES SEP-2021\",\n",
            "      \"debit\": \"\",\n",
            "      \"credit\": \"5.25\",\n",
            "      \"balance\": \"45,414.53\"\n",
            "    },\n",
            "    {\n",
            "      \"transaction_date\": \"01/10/2021\",\n",
            "      \"value_date\": \"01/10/2021\",\n",
            "      \"cheque_ref_no\": \"99700gp212745610\",\n",
            "      \"description\": \"ELECTRON DEBIT CARD TRANSACTION: EPPCO SITE -36 DUBAI\",\n",
            "      \"debit\": \"60.00\",\n",
            "      \"credit\": \"\",\n",
            "      \"balance\": \"45,429.28\"\n",
            "    },\n",
            "    {\n",
            "      \"transaction_date\": \"01/10/2021\",\n",
            "      \"value_date\": \"01/10/2021\",\n",
            "      \"cheque_ref_no\": \"99700gp212745618\",\n",
            "      \"description\": \"ELECTRON DEBIT CARD TRANSACTION: ABU DHABI TRANSPORT\",\n",
            "      \"debit\": \"50.00\",\n",
            "      \"credit\": \"\",\n",
            "      \"balance\": \"45,479.28\"\n",
            "    },\n",
            "    {\n",
            "      \"transaction_date\": \"01/10/2021\",\n",
            "      \"value_date\": \"01/10/2021\",\n",
            "      \"cheque_ref_no\": \"99700gp212745626\",\n",
            "      \"description\": \"ELECTRON DEBIT CARD TRANSACTION: UNITED HYPERMARKET DUBAI\",\n",
            "      \"debit\": \"22.45\",\n",
            "      \"credit\": \"\",\n",
            "      \"balance\": \"45,456.83\"\n",
            "    },\n",
            "    {\n",
            "      \"transaction_date\": \"01/10/2021\",\n",
            "      \"value_date\": \"01/10/2021\",\n",
            "      \"cheque_ref_no\": \"010086212776509\",\n",
            "      \"description\": \"ELECTRON DEBIT CARD TRANSACTION: EMARAT 0725 AL SAFIYAH DUBAI\",\n",
            "      \"debit\": \"100.00\",\n",
            "      \"credit\": \"\",\n",
            "      \"balance\": \"45,556.83\"\n",
            "    },\n",
            "    {\n",
            "      \"transaction_date\": \"04/10/2021\",\n",
            "      \"value_date\": \"04/10/2021\",\n",
            "      \"cheque_ref_no\": \"99700co212772494\",\n",
            "      \"description\": \"ELECTRON DEBIT CARD TRANSACTION: UNION COOP DUBAI\",\n",
            "      \"debit\": \"3.75\",\n",
            "      \"credit\": \"\",\n",
            "      \"balance\": \"45,553.08\"\n",
            "    },\n",
            "    {\n",
            "      \"transaction_date\": \"04/10/2021\",\n",
            "      \"value_date\": \"04/10/2021\",\n",
            "      \"cheque_ref_no\": \"99700co212772492\",\n",
            "      \"description\": \"ELECTRON DEBIT CARD TRANSACTION: UNITED HYPERMARKET QUAIRI\",\n",
            "      \"debit\": \"18.50\",\n",
            "      \"credit\": \"\",\n",
            "      \"balance\": \"45,534.58\"\n",
            "    },\n",
            "    {\n",
            "      \"transaction_date\": \"04/10/2021\",\n",
            "      \"value_date\": \"04/10/2021\",\n",
            "      \"cheque_ref_no\": \"99705vm212771463\",\n",
            "      \"description\": \"VISA CARD PAYMENT\",\n",
            "      \"debit\": \"\",\n",
            "      \"credit\": \"59.22\",\n",
            "      \"balance\": \"45,075.36\"\n",
            "    },\n",
            "    {\n",
            "      \"transaction_date\": \"06/10/2021\",\n",
            "      \"value_date\": \"06/10/2021\",\n",
            "      \"cheque_ref_no\": \"997001h212797930\",\n",
            "      \"description\": \"ELECTRON DEBIT CARD TRANSACTION: EMARAT 0725 AL SAFIYAH DUBAI\",\n",
            "      \"debit\": \"100.00\",\n",
            "      \"credit\": \"\",\n",
            "      \"balance\": \"45,575.36\"\n",
            "    },\n",
            "    {\n",
            "      \"transaction_date\": \"06/10/2021\",\n",
            "      \"value_date\": \"06/10/2021\",\n",
            "      \"cheque_ref_no\": \"997001h212797938\",\n",
            "      \"description\": \"ELECTRON DEBIT CARD TRANSACTION: NATIONAL PARKING COMPANY SHARJAH AE\",\n",
            "      \"debit\": \"27.00\",\n",
            "      \"credit\": \"\",\n",
            "      \"balance\": \"45,498.36\"\n",
            "    },\n",
            "    {\n",
            "      \"transaction_date\": \"06/10/2021\",\n",
            "      \"value_date\": \"06/10/2021\",\n",
            "      \"cheque_ref_no\": \"997001h212797946\",\n",
            "      \"description\": \"ELECTRON DEBIT CARD TRANSACTION: UNITED HYPERMARKET QUAIRI\",\n",
            "      \"debit\": \"26.56\",\n",
            "      \"credit\": \"\",\n",
            "      \"balance\": \"45,471.80\"\n",
            "    },\n",
            "    {\n",
            "      \"transaction_date\": \"06/10/2021\",\n",
            "      \"value_date\": \"06/10/2021\",\n",
            "      \"cheque_ref_no\": \"997001h212798754\",\n",
            "      \"description\": \"ELECTRON DEBIT CARD TRANSACTION: UNITED HYPERMARKET DUBAI\",\n",
            "      \"debit\": \"4.95\",\n",
            "      \"credit\": \"\",\n",
            "      \"balance\": \"45,466.85\"\n",
            "    }\n",
            "  ],\n",
            "  \"notes\": \"• Unless we receive a claim from your side within 15 days this statement will be considered correct.\\n• (--) DENOTES DEBIT BALANCE\\nPLEASE INFORM US BY WRITING IF THERE IS ANY CHANGE IN YOUR ADDRESS.\"\n",
            "}\n"
          ]
        }
      ]
    },
    {
      "cell_type": "markdown",
      "source": [
        "## Nanonets"
      ],
      "metadata": {
        "id": "Tcfl8pUBXXtY"
      }
    },
    {
      "cell_type": "code",
      "source": [
        "!pip install -U transformers"
      ],
      "metadata": {
        "id": "xqXa8BRHXq97"
      },
      "execution_count": null,
      "outputs": []
    },
    {
      "cell_type": "code",
      "source": [
        "# # Use a pipeline as a high-level helper\n",
        "# from transformers import pipeline\n",
        "\n",
        "# pipe = pipeline(\"image-text-to-text\", model=\"nanonets/Nanonets-OCR-s\")\n",
        "# messages = [\n",
        "#     {\n",
        "#         \"role\": \"user\",\n",
        "#         \"content\": [\n",
        "#             {\"type\": \"image\", \"url\": \"https://huggingface.co/datasets/huggingface/documentation-images/resolve/main/p-blog/candy.JPG\"},\n",
        "#             {\"type\": \"text\", \"text\": \"What animal is on the candy?\"}\n",
        "#         ]\n",
        "#     },\n",
        "# ]\n",
        "# pipe(text=messages)"
      ],
      "metadata": {
        "id": "-vmfshgmXobU"
      },
      "execution_count": null,
      "outputs": []
    },
    {
      "cell_type": "code",
      "source": [
        "# Load model directly\n",
        "from transformers import AutoProcessor, AutoModelForVision2Seq\n",
        "\n",
        "processor = AutoProcessor.from_pretrained(\"nanonets/Nanonets-OCR-s\")\n",
        "model = AutoModelForVision2Seq.from_pretrained(\"nanonets/Nanonets-OCR-s\")"
      ],
      "metadata": {
        "colab": {
          "base_uri": "https://localhost:8080/",
          "height": 49,
          "referenced_widgets": [
            "c5770a7532d740ceadb2aeca8f102c58",
            "3b51ff9009d745409d1033387d7ebc51",
            "eb9ad80ce2fc4b7fb4e5f99d1486c4a6",
            "99d58e7980e546539f637582f59bb4a4",
            "e5d7fd97096240868b744a003760b1f4",
            "4c24cd6ccaec4a188777b84cb9000c74",
            "ca98df8126e34fb7aa5192b9c6b66a41",
            "dcf4d10b59f1454eb09f1ab6112dd707",
            "a6f698e92c3d46478dd34866a3c1af4f",
            "9e93e64572544eeaa0b3e484d8ec945c",
            "2a18280cda884573bb22121a03859882"
          ]
        },
        "id": "V-cVOia0YI6S",
        "outputId": "5bb4d315-ef8e-4895-8a37-a30bf1769cd9"
      },
      "execution_count": null,
      "outputs": [
        {
          "output_type": "display_data",
          "data": {
            "text/plain": [
              "Loading checkpoint shards:   0%|          | 0/2 [00:00<?, ?it/s]"
            ],
            "application/vnd.jupyter.widget-view+json": {
              "version_major": 2,
              "version_minor": 0,
              "model_id": "c5770a7532d740ceadb2aeca8f102c58"
            }
          },
          "metadata": {}
        }
      ]
    },
    {
      "cell_type": "code",
      "source": [
        "# from PIL import Image\n",
        "# from transformers import AutoTokenizer, AutoProcessor, AutoModelForImageTextToText\n",
        "\n",
        "# model_path = \"nanonets/Nanonets-OCR-s\"\n",
        "\n",
        "# model = AutoModelForImageTextToText.from_pretrained(\n",
        "#     model_path,\n",
        "#     torch_dtype=\"auto\",\n",
        "#     device_map=\"auto\",\n",
        "#     attn_implementation=\"flash_attention_2\"\n",
        "# )\n",
        "# model.eval()"
      ],
      "metadata": {
        "id": "viKhxJhQXcn7"
      },
      "execution_count": null,
      "outputs": []
    },
    {
      "cell_type": "code",
      "source": [
        "# tokenizer = AutoTokenizer.from_pretrained(model_path)\n",
        "# processor = AutoProcessor.from_pretrained(model_path)\n",
        "\n",
        "\n",
        "# def ocr_page_with_nanonets_s(image_path, model, processor, max_new_tokens=4096):\n",
        "#     prompt = \"\"\"Extract the text from the above document as if you were reading it naturally. Return the tables in html format. Return the equations in LaTeX representation. If there is an image in the document and image caption is not present, add a small description of the image inside the <img></img> tag; otherwise, add the image caption inside <img></img>. Watermarks should be wrapped in brackets. Ex: <watermark>OFFICIAL COPY</watermark>. Page numbers should be wrapped in brackets. Ex: <page_number>14</page_number> or <page_number>9/22</page_number>. Prefer using ☐ and ☑ for check boxes.\"\"\"\n",
        "#     image = Image.open(image_path)\n",
        "#     messages = [\n",
        "#         {\"role\": \"system\", \"content\": \"You are a helpful assistant.\"},\n",
        "#         {\"role\": \"user\", \"content\": [\n",
        "#             {\"type\": \"image\", \"image\": f\"file://{image_path}\"},\n",
        "#             {\"type\": \"text\", \"text\": prompt},\n",
        "#         ]},\n",
        "#     ]\n",
        "#     text = processor.apply_chat_template(messages, tokenize=False, add_generation_prompt=True)\n",
        "#     inputs = processor(text=[text], images=[image], padding=True, return_tensors=\"pt\")\n",
        "#     inputs = inputs.to(model.device)\n",
        "\n",
        "#     output_ids = model.generate(**inputs, max_new_tokens=max_new_tokens, do_sample=False)\n",
        "#     generated_ids = [output_ids[len(input_ids):] for input_ids, output_ids in zip(inputs.input_ids, output_ids)]\n",
        "\n",
        "#     output_text = processor.batch_decode(generated_ids, skip_special_tokens=True, clean_up_tokenization_spaces=True)\n",
        "#     return output_text[0]\n",
        "\n",
        "# image_path = \"/path/to/your/document.jpg\"\n",
        "# result = ocr_page_with_nanonets_s(image_path, model, processor, max_new_tokens=15000)\n",
        "# print(result)\n"
      ],
      "metadata": {
        "id": "60CFYs7PXasS"
      },
      "execution_count": null,
      "outputs": []
    }
  ]
}